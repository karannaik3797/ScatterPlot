{
  "nbformat": 4,
  "nbformat_minor": 0,
  "metadata": {
    "colab": {
      "name": "Day5.ipynb",
      "provenance": []
    },
    "kernelspec": {
      "name": "python3",
      "display_name": "Python 3"
    },
    "language_info": {
      "name": "python"
    }
  },
  "cells": [
    {
      "cell_type": "code",
      "metadata": {
        "id": "rpeSlwJS02Bz"
      },
      "source": [
        "import numpy as np\n",
        "import pandas as pd\n"
      ],
      "execution_count": 1,
      "outputs": []
    },
    {
      "cell_type": "code",
      "metadata": {
        "id": "NJU0MiSm1Bp-"
      },
      "source": [
        "data = pd.read_csv('mc1-reports-data.csv')"
      ],
      "execution_count": 2,
      "outputs": []
    },
    {
      "cell_type": "code",
      "metadata": {
        "id": "AoydZlcb1GJE"
      },
      "source": [
        "data.reset_index(inplace=True)"
      ],
      "execution_count": 3,
      "outputs": []
    },
    {
      "cell_type": "code",
      "metadata": {
        "colab": {
          "base_uri": "https://localhost:8080/",
          "height": 423
        },
        "id": "C7AHB4KK1Hyx",
        "outputId": "a93a4f67-f568-4ed6-a8ec-4271a9c8fd7c"
      },
      "source": [
        "data.drop('index',inplace=True,axis=1)\n",
        "data"
      ],
      "execution_count": 4,
      "outputs": [
        {
          "output_type": "execute_result",
          "data": {
            "text/html": [
              "<div>\n",
              "<style scoped>\n",
              "    .dataframe tbody tr th:only-of-type {\n",
              "        vertical-align: middle;\n",
              "    }\n",
              "\n",
              "    .dataframe tbody tr th {\n",
              "        vertical-align: top;\n",
              "    }\n",
              "\n",
              "    .dataframe thead th {\n",
              "        text-align: right;\n",
              "    }\n",
              "</style>\n",
              "<table border=\"1\" class=\"dataframe\">\n",
              "  <thead>\n",
              "    <tr style=\"text-align: right;\">\n",
              "      <th></th>\n",
              "      <th>time</th>\n",
              "      <th>sewer_and_water</th>\n",
              "      <th>power</th>\n",
              "      <th>roads_and_bridges</th>\n",
              "      <th>medical</th>\n",
              "      <th>buildings</th>\n",
              "      <th>shake_intensity</th>\n",
              "      <th>location</th>\n",
              "    </tr>\n",
              "  </thead>\n",
              "  <tbody>\n",
              "    <tr>\n",
              "      <th>0</th>\n",
              "      <td>4/6/2020 0:00</td>\n",
              "      <td>2.0</td>\n",
              "      <td>8</td>\n",
              "      <td>5</td>\n",
              "      <td>NaN</td>\n",
              "      <td>3.0</td>\n",
              "      <td>0.0</td>\n",
              "      <td>2</td>\n",
              "    </tr>\n",
              "    <tr>\n",
              "      <th>1</th>\n",
              "      <td>4/6/2020 0:00</td>\n",
              "      <td>6.0</td>\n",
              "      <td>3</td>\n",
              "      <td>10</td>\n",
              "      <td>10.0</td>\n",
              "      <td>9.0</td>\n",
              "      <td>NaN</td>\n",
              "      <td>3</td>\n",
              "    </tr>\n",
              "    <tr>\n",
              "      <th>2</th>\n",
              "      <td>4/6/2020 0:00</td>\n",
              "      <td>10.0</td>\n",
              "      <td>2</td>\n",
              "      <td>9</td>\n",
              "      <td>NaN</td>\n",
              "      <td>10.0</td>\n",
              "      <td>NaN</td>\n",
              "      <td>4</td>\n",
              "    </tr>\n",
              "    <tr>\n",
              "      <th>3</th>\n",
              "      <td>4/6/2020 0:00</td>\n",
              "      <td>8.0</td>\n",
              "      <td>1</td>\n",
              "      <td>10</td>\n",
              "      <td>NaN</td>\n",
              "      <td>3.0</td>\n",
              "      <td>1.0</td>\n",
              "      <td>4</td>\n",
              "    </tr>\n",
              "    <tr>\n",
              "      <th>4</th>\n",
              "      <td>4/6/2020 0:00</td>\n",
              "      <td>9.0</td>\n",
              "      <td>7</td>\n",
              "      <td>5</td>\n",
              "      <td>NaN</td>\n",
              "      <td>4.0</td>\n",
              "      <td>NaN</td>\n",
              "      <td>8</td>\n",
              "    </tr>\n",
              "    <tr>\n",
              "      <th>...</th>\n",
              "      <td>...</td>\n",
              "      <td>...</td>\n",
              "      <td>...</td>\n",
              "      <td>...</td>\n",
              "      <td>...</td>\n",
              "      <td>...</td>\n",
              "      <td>...</td>\n",
              "      <td>...</td>\n",
              "    </tr>\n",
              "    <tr>\n",
              "      <th>83065</th>\n",
              "      <td>4/11/2020 0:00</td>\n",
              "      <td>5.0</td>\n",
              "      <td>2</td>\n",
              "      <td>2</td>\n",
              "      <td>NaN</td>\n",
              "      <td>8.0</td>\n",
              "      <td>NaN</td>\n",
              "      <td>2</td>\n",
              "    </tr>\n",
              "    <tr>\n",
              "      <th>83066</th>\n",
              "      <td>4/11/2020 0:00</td>\n",
              "      <td>7.0</td>\n",
              "      <td>7</td>\n",
              "      <td>8</td>\n",
              "      <td>10.0</td>\n",
              "      <td>10.0</td>\n",
              "      <td>NaN</td>\n",
              "      <td>6</td>\n",
              "    </tr>\n",
              "    <tr>\n",
              "      <th>83067</th>\n",
              "      <td>4/11/2020 0:00</td>\n",
              "      <td>4.0</td>\n",
              "      <td>9</td>\n",
              "      <td>7</td>\n",
              "      <td>NaN</td>\n",
              "      <td>7.0</td>\n",
              "      <td>NaN</td>\n",
              "      <td>13</td>\n",
              "    </tr>\n",
              "    <tr>\n",
              "      <th>83068</th>\n",
              "      <td>4/11/2020 0:00</td>\n",
              "      <td>5.0</td>\n",
              "      <td>1</td>\n",
              "      <td>3</td>\n",
              "      <td>NaN</td>\n",
              "      <td>2.0</td>\n",
              "      <td>NaN</td>\n",
              "      <td>15</td>\n",
              "    </tr>\n",
              "    <tr>\n",
              "      <th>83069</th>\n",
              "      <td>4/11/2020 0:00</td>\n",
              "      <td>5.0</td>\n",
              "      <td>9</td>\n",
              "      <td>6</td>\n",
              "      <td>NaN</td>\n",
              "      <td>2.0</td>\n",
              "      <td>0.0</td>\n",
              "      <td>18</td>\n",
              "    </tr>\n",
              "  </tbody>\n",
              "</table>\n",
              "<p>83070 rows × 8 columns</p>\n",
              "</div>"
            ],
            "text/plain": [
              "                 time  sewer_and_water  ...  shake_intensity  location\n",
              "0       4/6/2020 0:00              2.0  ...              0.0         2\n",
              "1       4/6/2020 0:00              6.0  ...              NaN         3\n",
              "2       4/6/2020 0:00             10.0  ...              NaN         4\n",
              "3       4/6/2020 0:00              8.0  ...              1.0         4\n",
              "4       4/6/2020 0:00              9.0  ...              NaN         8\n",
              "...               ...              ...  ...              ...       ...\n",
              "83065  4/11/2020 0:00              5.0  ...              NaN         2\n",
              "83066  4/11/2020 0:00              7.0  ...              NaN         6\n",
              "83067  4/11/2020 0:00              4.0  ...              NaN        13\n",
              "83068  4/11/2020 0:00              5.0  ...              NaN        15\n",
              "83069  4/11/2020 0:00              5.0  ...              0.0        18\n",
              "\n",
              "[83070 rows x 8 columns]"
            ]
          },
          "metadata": {},
          "execution_count": 4
        }
      ]
    },
    {
      "cell_type": "code",
      "metadata": {
        "colab": {
          "base_uri": "https://localhost:8080/",
          "height": 423
        },
        "id": "8phawWGr1Jim",
        "outputId": "1f39ba56-c5c7-44f1-c252-8c415eb6425e"
      },
      "source": [
        "data = data[75820:83064]\n",
        "data"
      ],
      "execution_count": 5,
      "outputs": [
        {
          "output_type": "execute_result",
          "data": {
            "text/html": [
              "<div>\n",
              "<style scoped>\n",
              "    .dataframe tbody tr th:only-of-type {\n",
              "        vertical-align: middle;\n",
              "    }\n",
              "\n",
              "    .dataframe tbody tr th {\n",
              "        vertical-align: top;\n",
              "    }\n",
              "\n",
              "    .dataframe thead th {\n",
              "        text-align: right;\n",
              "    }\n",
              "</style>\n",
              "<table border=\"1\" class=\"dataframe\">\n",
              "  <thead>\n",
              "    <tr style=\"text-align: right;\">\n",
              "      <th></th>\n",
              "      <th>time</th>\n",
              "      <th>sewer_and_water</th>\n",
              "      <th>power</th>\n",
              "      <th>roads_and_bridges</th>\n",
              "      <th>medical</th>\n",
              "      <th>buildings</th>\n",
              "      <th>shake_intensity</th>\n",
              "      <th>location</th>\n",
              "    </tr>\n",
              "  </thead>\n",
              "  <tbody>\n",
              "    <tr>\n",
              "      <th>75820</th>\n",
              "      <td>4/10/2020 0:00</td>\n",
              "      <td>3.0</td>\n",
              "      <td>3</td>\n",
              "      <td>2</td>\n",
              "      <td>10.0</td>\n",
              "      <td>7.0</td>\n",
              "      <td>NaN</td>\n",
              "      <td>1</td>\n",
              "    </tr>\n",
              "    <tr>\n",
              "      <th>75821</th>\n",
              "      <td>4/10/2020 0:00</td>\n",
              "      <td>10.0</td>\n",
              "      <td>1</td>\n",
              "      <td>3</td>\n",
              "      <td>1.0</td>\n",
              "      <td>7.0</td>\n",
              "      <td>1.0</td>\n",
              "      <td>6</td>\n",
              "    </tr>\n",
              "    <tr>\n",
              "      <th>75822</th>\n",
              "      <td>4/10/2020 0:00</td>\n",
              "      <td>8.0</td>\n",
              "      <td>7</td>\n",
              "      <td>8</td>\n",
              "      <td>5.0</td>\n",
              "      <td>0.0</td>\n",
              "      <td>NaN</td>\n",
              "      <td>6</td>\n",
              "    </tr>\n",
              "    <tr>\n",
              "      <th>75823</th>\n",
              "      <td>4/10/2020 0:00</td>\n",
              "      <td>10.0</td>\n",
              "      <td>9</td>\n",
              "      <td>10</td>\n",
              "      <td>6.0</td>\n",
              "      <td>7.0</td>\n",
              "      <td>NaN</td>\n",
              "      <td>9</td>\n",
              "    </tr>\n",
              "    <tr>\n",
              "      <th>75824</th>\n",
              "      <td>4/10/2020 0:00</td>\n",
              "      <td>5.0</td>\n",
              "      <td>2</td>\n",
              "      <td>4</td>\n",
              "      <td>1.0</td>\n",
              "      <td>3.0</td>\n",
              "      <td>0.0</td>\n",
              "      <td>5</td>\n",
              "    </tr>\n",
              "    <tr>\n",
              "      <th>...</th>\n",
              "      <td>...</td>\n",
              "      <td>...</td>\n",
              "      <td>...</td>\n",
              "      <td>...</td>\n",
              "      <td>...</td>\n",
              "      <td>...</td>\n",
              "      <td>...</td>\n",
              "      <td>...</td>\n",
              "    </tr>\n",
              "    <tr>\n",
              "      <th>83059</th>\n",
              "      <td>4/10/2020 23:55</td>\n",
              "      <td>9.0</td>\n",
              "      <td>0</td>\n",
              "      <td>9</td>\n",
              "      <td>NaN</td>\n",
              "      <td>3.0</td>\n",
              "      <td>NaN</td>\n",
              "      <td>8</td>\n",
              "    </tr>\n",
              "    <tr>\n",
              "      <th>83060</th>\n",
              "      <td>4/10/2020 23:55</td>\n",
              "      <td>9.0</td>\n",
              "      <td>3</td>\n",
              "      <td>6</td>\n",
              "      <td>10.0</td>\n",
              "      <td>3.0</td>\n",
              "      <td>NaN</td>\n",
              "      <td>9</td>\n",
              "    </tr>\n",
              "    <tr>\n",
              "      <th>83061</th>\n",
              "      <td>4/10/2020 23:55</td>\n",
              "      <td>3.0</td>\n",
              "      <td>10</td>\n",
              "      <td>9</td>\n",
              "      <td>NaN</td>\n",
              "      <td>0.0</td>\n",
              "      <td>NaN</td>\n",
              "      <td>10</td>\n",
              "    </tr>\n",
              "    <tr>\n",
              "      <th>83062</th>\n",
              "      <td>4/10/2020 23:55</td>\n",
              "      <td>7.0</td>\n",
              "      <td>10</td>\n",
              "      <td>9</td>\n",
              "      <td>NaN</td>\n",
              "      <td>10.0</td>\n",
              "      <td>NaN</td>\n",
              "      <td>14</td>\n",
              "    </tr>\n",
              "    <tr>\n",
              "      <th>83063</th>\n",
              "      <td>4/10/2020 23:55</td>\n",
              "      <td>10.0</td>\n",
              "      <td>4</td>\n",
              "      <td>9</td>\n",
              "      <td>NaN</td>\n",
              "      <td>0.0</td>\n",
              "      <td>NaN</td>\n",
              "      <td>15</td>\n",
              "    </tr>\n",
              "  </tbody>\n",
              "</table>\n",
              "<p>7244 rows × 8 columns</p>\n",
              "</div>"
            ],
            "text/plain": [
              "                  time  sewer_and_water  ...  shake_intensity  location\n",
              "75820   4/10/2020 0:00              3.0  ...              NaN         1\n",
              "75821   4/10/2020 0:00             10.0  ...              1.0         6\n",
              "75822   4/10/2020 0:00              8.0  ...              NaN         6\n",
              "75823   4/10/2020 0:00             10.0  ...              NaN         9\n",
              "75824   4/10/2020 0:00              5.0  ...              0.0         5\n",
              "...                ...              ...  ...              ...       ...\n",
              "83059  4/10/2020 23:55              9.0  ...              NaN         8\n",
              "83060  4/10/2020 23:55              9.0  ...              NaN         9\n",
              "83061  4/10/2020 23:55              3.0  ...              NaN        10\n",
              "83062  4/10/2020 23:55              7.0  ...              NaN        14\n",
              "83063  4/10/2020 23:55             10.0  ...              NaN        15\n",
              "\n",
              "[7244 rows x 8 columns]"
            ]
          },
          "metadata": {},
          "execution_count": 5
        }
      ]
    },
    {
      "cell_type": "markdown",
      "metadata": {
        "id": "SMF_I9zG2oV6"
      },
      "source": [
        "Loc1 day5"
      ]
    },
    {
      "cell_type": "code",
      "metadata": {
        "colab": {
          "base_uri": "https://localhost:8080/"
        },
        "id": "UNdseYCd2jcu",
        "outputId": "04f6c44f-0ee9-42f4-819e-fd2ac2cc685c"
      },
      "source": [
        "l1d5 = data[data['location']==1]\n",
        "l1d5.reset_index(inplace=True)\n",
        "l1d5.drop(['index','location'],axis=1,inplace=True)\n",
        "l1d5.to_csv('location1day5.csv')"
      ],
      "execution_count": 6,
      "outputs": [
        {
          "output_type": "stream",
          "name": "stderr",
          "text": [
            "/usr/local/lib/python3.7/dist-packages/pandas/core/frame.py:4174: SettingWithCopyWarning: \n",
            "A value is trying to be set on a copy of a slice from a DataFrame\n",
            "\n",
            "See the caveats in the documentation: https://pandas.pydata.org/pandas-docs/stable/user_guide/indexing.html#returning-a-view-versus-a-copy\n",
            "  errors=errors,\n"
          ]
        }
      ]
    },
    {
      "cell_type": "markdown",
      "metadata": {
        "id": "UF7XlVsl2v6d"
      },
      "source": [
        "Loc2 day5"
      ]
    },
    {
      "cell_type": "code",
      "metadata": {
        "colab": {
          "base_uri": "https://localhost:8080/"
        },
        "id": "xPZK2Mc82u5H",
        "outputId": "3b4b1740-8b6b-4de3-f6fd-b29d5209f186"
      },
      "source": [
        "l2d5 = data[data['location']==2]\n",
        "l2d5.reset_index(inplace=True)\n",
        "l2d5.drop(['index','location'],axis=1,inplace=True)\n",
        "l2d5.to_csv('location2day5.csv')"
      ],
      "execution_count": 7,
      "outputs": [
        {
          "output_type": "stream",
          "name": "stderr",
          "text": [
            "/usr/local/lib/python3.7/dist-packages/pandas/core/frame.py:4174: SettingWithCopyWarning: \n",
            "A value is trying to be set on a copy of a slice from a DataFrame\n",
            "\n",
            "See the caveats in the documentation: https://pandas.pydata.org/pandas-docs/stable/user_guide/indexing.html#returning-a-view-versus-a-copy\n",
            "  errors=errors,\n"
          ]
        }
      ]
    },
    {
      "cell_type": "markdown",
      "metadata": {
        "id": "6LntdW5Z22eF"
      },
      "source": [
        "Loc3 day5"
      ]
    },
    {
      "cell_type": "code",
      "metadata": {
        "colab": {
          "base_uri": "https://localhost:8080/"
        },
        "id": "3IFOSbyz21oD",
        "outputId": "c64e5ad7-2ead-46a9-fdf0-8ccfe46460df"
      },
      "source": [
        "l3d5 = data[data['location']==3]\n",
        "l3d5.reset_index(inplace=True)\n",
        "l3d5.drop(['index','location'],axis=1,inplace=True)\n",
        "l3d5.to_csv('location3day5.csv')"
      ],
      "execution_count": 8,
      "outputs": [
        {
          "output_type": "stream",
          "name": "stderr",
          "text": [
            "/usr/local/lib/python3.7/dist-packages/pandas/core/frame.py:4174: SettingWithCopyWarning: \n",
            "A value is trying to be set on a copy of a slice from a DataFrame\n",
            "\n",
            "See the caveats in the documentation: https://pandas.pydata.org/pandas-docs/stable/user_guide/indexing.html#returning-a-view-versus-a-copy\n",
            "  errors=errors,\n"
          ]
        }
      ]
    },
    {
      "cell_type": "markdown",
      "metadata": {
        "id": "6t9_I2HA27R8"
      },
      "source": [
        "Loc4 day5"
      ]
    },
    {
      "cell_type": "code",
      "metadata": {
        "colab": {
          "base_uri": "https://localhost:8080/"
        },
        "id": "Oiy47EDb26aB",
        "outputId": "add927ef-217a-45f3-93e0-07ee7970797a"
      },
      "source": [
        "l4d5 = data[data['location']==4]\n",
        "l4d5.reset_index(inplace=True)\n",
        "l4d5.drop(['index','location'],axis=1,inplace=True)\n",
        "l4d5.to_csv('location4day5.csv')"
      ],
      "execution_count": 9,
      "outputs": [
        {
          "output_type": "stream",
          "name": "stderr",
          "text": [
            "/usr/local/lib/python3.7/dist-packages/pandas/core/frame.py:4174: SettingWithCopyWarning: \n",
            "A value is trying to be set on a copy of a slice from a DataFrame\n",
            "\n",
            "See the caveats in the documentation: https://pandas.pydata.org/pandas-docs/stable/user_guide/indexing.html#returning-a-view-versus-a-copy\n",
            "  errors=errors,\n"
          ]
        }
      ]
    },
    {
      "cell_type": "markdown",
      "metadata": {
        "id": "f9NTZO4S3A4K"
      },
      "source": [
        "Loc5 day5"
      ]
    },
    {
      "cell_type": "code",
      "metadata": {
        "colab": {
          "base_uri": "https://localhost:8080/"
        },
        "id": "hs__nAYA3AFo",
        "outputId": "4c60d8f1-f6ae-4989-a4bb-5132b3e091b0"
      },
      "source": [
        "l5d5 = data[data['location']==5]\n",
        "l5d5.reset_index(inplace=True)\n",
        "l5d5.drop(['index','location'],axis=1,inplace=True)\n",
        "l5d5.to_csv('location5day5.csv')"
      ],
      "execution_count": 10,
      "outputs": [
        {
          "output_type": "stream",
          "name": "stderr",
          "text": [
            "/usr/local/lib/python3.7/dist-packages/pandas/core/frame.py:4174: SettingWithCopyWarning: \n",
            "A value is trying to be set on a copy of a slice from a DataFrame\n",
            "\n",
            "See the caveats in the documentation: https://pandas.pydata.org/pandas-docs/stable/user_guide/indexing.html#returning-a-view-versus-a-copy\n",
            "  errors=errors,\n"
          ]
        }
      ]
    },
    {
      "cell_type": "markdown",
      "metadata": {
        "id": "SlT61naw3GYX"
      },
      "source": [
        "Loc6 day5"
      ]
    },
    {
      "cell_type": "code",
      "metadata": {
        "colab": {
          "base_uri": "https://localhost:8080/"
        },
        "id": "JmLbWUeR3FfC",
        "outputId": "cdc4a8df-65d3-4e1a-c419-7ed275ba1b42"
      },
      "source": [
        "l6d5 = data[data['location']==6]\n",
        "l6d5.reset_index(inplace=True)\n",
        "l6d5.drop(['index','location'],axis=1,inplace=True)\n",
        "l6d5.to_csv('location6day5.csv')"
      ],
      "execution_count": 11,
      "outputs": [
        {
          "output_type": "stream",
          "name": "stderr",
          "text": [
            "/usr/local/lib/python3.7/dist-packages/pandas/core/frame.py:4174: SettingWithCopyWarning: \n",
            "A value is trying to be set on a copy of a slice from a DataFrame\n",
            "\n",
            "See the caveats in the documentation: https://pandas.pydata.org/pandas-docs/stable/user_guide/indexing.html#returning-a-view-versus-a-copy\n",
            "  errors=errors,\n"
          ]
        }
      ]
    },
    {
      "cell_type": "markdown",
      "metadata": {
        "id": "Y3yVKpVZ3MA4"
      },
      "source": [
        "Loc7 day5"
      ]
    },
    {
      "cell_type": "code",
      "metadata": {
        "colab": {
          "base_uri": "https://localhost:8080/"
        },
        "id": "k-gmovAk3LDx",
        "outputId": "1285dca1-9900-4055-964b-6f35459a02bc"
      },
      "source": [
        "l7d5 = data[data['location']==7]\n",
        "l7d5.reset_index(inplace=True)\n",
        "l7d5.drop(['index','location'],axis=1,inplace=True)\n",
        "l7d5.to_csv('location7day5.csv')"
      ],
      "execution_count": 12,
      "outputs": [
        {
          "output_type": "stream",
          "name": "stderr",
          "text": [
            "/usr/local/lib/python3.7/dist-packages/pandas/core/frame.py:4174: SettingWithCopyWarning: \n",
            "A value is trying to be set on a copy of a slice from a DataFrame\n",
            "\n",
            "See the caveats in the documentation: https://pandas.pydata.org/pandas-docs/stable/user_guide/indexing.html#returning-a-view-versus-a-copy\n",
            "  errors=errors,\n"
          ]
        }
      ]
    },
    {
      "cell_type": "markdown",
      "metadata": {
        "id": "rcEVavf53RuZ"
      },
      "source": [
        "Loc8 day5"
      ]
    },
    {
      "cell_type": "code",
      "metadata": {
        "colab": {
          "base_uri": "https://localhost:8080/"
        },
        "id": "_QpV-42y3Q9I",
        "outputId": "ba7b2eb7-ff3f-4e5d-d565-c3449317265f"
      },
      "source": [
        "l8d5 = data[data['location']==8]\n",
        "l8d5.reset_index(inplace=True)\n",
        "l8d5.drop(['index','location'],axis=1,inplace=True)\n",
        "l8d5.to_csv('location8day5.csv')"
      ],
      "execution_count": 13,
      "outputs": [
        {
          "output_type": "stream",
          "name": "stderr",
          "text": [
            "/usr/local/lib/python3.7/dist-packages/pandas/core/frame.py:4174: SettingWithCopyWarning: \n",
            "A value is trying to be set on a copy of a slice from a DataFrame\n",
            "\n",
            "See the caveats in the documentation: https://pandas.pydata.org/pandas-docs/stable/user_guide/indexing.html#returning-a-view-versus-a-copy\n",
            "  errors=errors,\n"
          ]
        }
      ]
    },
    {
      "cell_type": "markdown",
      "metadata": {
        "id": "mkBVOcfc3XCT"
      },
      "source": [
        "Loc9 day5"
      ]
    },
    {
      "cell_type": "code",
      "metadata": {
        "colab": {
          "base_uri": "https://localhost:8080/"
        },
        "id": "OwMh4n6K3V7e",
        "outputId": "65d36429-7b0a-4957-babd-80e85f8b4dcb"
      },
      "source": [
        "l9d5 = data[data['location']==9]\n",
        "l9d5.reset_index(inplace=True)\n",
        "l9d5.drop(['index','location'],axis=1,inplace=True)\n",
        "l9d5.to_csv('location9day5.csv')"
      ],
      "execution_count": 14,
      "outputs": [
        {
          "output_type": "stream",
          "name": "stderr",
          "text": [
            "/usr/local/lib/python3.7/dist-packages/pandas/core/frame.py:4174: SettingWithCopyWarning: \n",
            "A value is trying to be set on a copy of a slice from a DataFrame\n",
            "\n",
            "See the caveats in the documentation: https://pandas.pydata.org/pandas-docs/stable/user_guide/indexing.html#returning-a-view-versus-a-copy\n",
            "  errors=errors,\n"
          ]
        }
      ]
    },
    {
      "cell_type": "markdown",
      "metadata": {
        "id": "CGH304jh3cr3"
      },
      "source": [
        "Loc10 day5"
      ]
    },
    {
      "cell_type": "code",
      "metadata": {
        "colab": {
          "base_uri": "https://localhost:8080/"
        },
        "id": "_jJeOm7r3bn_",
        "outputId": "f2b32a53-fb43-4047-a252-d8ed70b335d8"
      },
      "source": [
        "l10d5 = data[data['location']==10]\n",
        "l10d5.reset_index(inplace=True)\n",
        "l10d5.drop(['index','location'],axis=1,inplace=True)\n",
        "l10d5.to_csv('location10day5.csv')"
      ],
      "execution_count": 15,
      "outputs": [
        {
          "output_type": "stream",
          "name": "stderr",
          "text": [
            "/usr/local/lib/python3.7/dist-packages/pandas/core/frame.py:4174: SettingWithCopyWarning: \n",
            "A value is trying to be set on a copy of a slice from a DataFrame\n",
            "\n",
            "See the caveats in the documentation: https://pandas.pydata.org/pandas-docs/stable/user_guide/indexing.html#returning-a-view-versus-a-copy\n",
            "  errors=errors,\n"
          ]
        }
      ]
    },
    {
      "cell_type": "markdown",
      "metadata": {
        "id": "7xveMsrG3kFN"
      },
      "source": [
        "Loc11 day5"
      ]
    },
    {
      "cell_type": "code",
      "metadata": {
        "colab": {
          "base_uri": "https://localhost:8080/"
        },
        "id": "k37rPx833jOn",
        "outputId": "dd4aee3d-dbe3-4ddf-e266-3cbbc76ff2aa"
      },
      "source": [
        "l11d5 = data[data['location']==11]\n",
        "l11d5.reset_index(inplace=True)\n",
        "l11d5.drop(['index','location'],axis=1,inplace=True)\n",
        "l11d5.to_csv('location11day5.csv')"
      ],
      "execution_count": 16,
      "outputs": [
        {
          "output_type": "stream",
          "name": "stderr",
          "text": [
            "/usr/local/lib/python3.7/dist-packages/pandas/core/frame.py:4174: SettingWithCopyWarning: \n",
            "A value is trying to be set on a copy of a slice from a DataFrame\n",
            "\n",
            "See the caveats in the documentation: https://pandas.pydata.org/pandas-docs/stable/user_guide/indexing.html#returning-a-view-versus-a-copy\n",
            "  errors=errors,\n"
          ]
        }
      ]
    },
    {
      "cell_type": "markdown",
      "metadata": {
        "id": "8YFlV2TG3soV"
      },
      "source": [
        "Loc12 day5"
      ]
    },
    {
      "cell_type": "code",
      "metadata": {
        "colab": {
          "base_uri": "https://localhost:8080/"
        },
        "id": "vF-CUHrm3r2D",
        "outputId": "ff1f26b9-7b1d-444b-a07f-210fec7d8e23"
      },
      "source": [
        "l12d5 = data[data['location']==12]\n",
        "l12d5.reset_index(inplace=True)\n",
        "l12d5.drop(['index','location'],axis=1,inplace=True)\n",
        "l12d5.to_csv('location12day5.csv')"
      ],
      "execution_count": 17,
      "outputs": [
        {
          "output_type": "stream",
          "name": "stderr",
          "text": [
            "/usr/local/lib/python3.7/dist-packages/pandas/core/frame.py:4174: SettingWithCopyWarning: \n",
            "A value is trying to be set on a copy of a slice from a DataFrame\n",
            "\n",
            "See the caveats in the documentation: https://pandas.pydata.org/pandas-docs/stable/user_guide/indexing.html#returning-a-view-versus-a-copy\n",
            "  errors=errors,\n"
          ]
        }
      ]
    },
    {
      "cell_type": "markdown",
      "metadata": {
        "id": "nnH6Ees43y5U"
      },
      "source": [
        "Loc13 day5"
      ]
    },
    {
      "cell_type": "code",
      "metadata": {
        "colab": {
          "base_uri": "https://localhost:8080/"
        },
        "id": "35PLpgX33yRR",
        "outputId": "d7c2d940-e0b4-4e5c-a09e-3e586b02ed51"
      },
      "source": [
        "l13d5 = data[data['location']==13]\n",
        "l13d5.reset_index(inplace=True)\n",
        "l13d5.drop(['index','location'],axis=1,inplace=True)\n",
        "l13d5.to_csv('location13day5.csv')"
      ],
      "execution_count": 18,
      "outputs": [
        {
          "output_type": "stream",
          "name": "stderr",
          "text": [
            "/usr/local/lib/python3.7/dist-packages/pandas/core/frame.py:4174: SettingWithCopyWarning: \n",
            "A value is trying to be set on a copy of a slice from a DataFrame\n",
            "\n",
            "See the caveats in the documentation: https://pandas.pydata.org/pandas-docs/stable/user_guide/indexing.html#returning-a-view-versus-a-copy\n",
            "  errors=errors,\n"
          ]
        }
      ]
    },
    {
      "cell_type": "markdown",
      "metadata": {
        "id": "zNMYX3SN34df"
      },
      "source": [
        "Loc14 day5"
      ]
    },
    {
      "cell_type": "code",
      "metadata": {
        "colab": {
          "base_uri": "https://localhost:8080/"
        },
        "id": "SEPn5MIK33nm",
        "outputId": "2490ea30-03dc-40cc-8262-432417194288"
      },
      "source": [
        "l14d5 = data[data['location']==14]\n",
        "l14d5.reset_index(inplace=True)\n",
        "l14d5.drop(['index','location'],axis=1,inplace=True)\n",
        "l14d5.to_csv('location14day5.csv')"
      ],
      "execution_count": 19,
      "outputs": [
        {
          "output_type": "stream",
          "name": "stderr",
          "text": [
            "/usr/local/lib/python3.7/dist-packages/pandas/core/frame.py:4174: SettingWithCopyWarning: \n",
            "A value is trying to be set on a copy of a slice from a DataFrame\n",
            "\n",
            "See the caveats in the documentation: https://pandas.pydata.org/pandas-docs/stable/user_guide/indexing.html#returning-a-view-versus-a-copy\n",
            "  errors=errors,\n"
          ]
        }
      ]
    },
    {
      "cell_type": "markdown",
      "metadata": {
        "id": "_fJ1G0MD3-YE"
      },
      "source": [
        "Loc15 day5"
      ]
    },
    {
      "cell_type": "code",
      "metadata": {
        "colab": {
          "base_uri": "https://localhost:8080/"
        },
        "id": "N8yxg3AZ39iF",
        "outputId": "95ad99d1-76c2-4b09-cbe4-d7d61cec3855"
      },
      "source": [
        "l15d5 = data[data['location']==15]\n",
        "l15d5.reset_index(inplace=True)\n",
        "l15d5.drop(['index','location'],axis=1,inplace=True)\n",
        "l15d5.to_csv('location15day5.csv')"
      ],
      "execution_count": 20,
      "outputs": [
        {
          "output_type": "stream",
          "name": "stderr",
          "text": [
            "/usr/local/lib/python3.7/dist-packages/pandas/core/frame.py:4174: SettingWithCopyWarning: \n",
            "A value is trying to be set on a copy of a slice from a DataFrame\n",
            "\n",
            "See the caveats in the documentation: https://pandas.pydata.org/pandas-docs/stable/user_guide/indexing.html#returning-a-view-versus-a-copy\n",
            "  errors=errors,\n"
          ]
        }
      ]
    },
    {
      "cell_type": "markdown",
      "metadata": {
        "id": "qW_4Jz7O4Ezw"
      },
      "source": [
        "Loc16 day5"
      ]
    },
    {
      "cell_type": "code",
      "metadata": {
        "colab": {
          "base_uri": "https://localhost:8080/"
        },
        "id": "aSoaICZw4EGT",
        "outputId": "002b254b-2125-4515-ba52-3c88a6239b6c"
      },
      "source": [
        "l16d5 = data[data['location']==16]\n",
        "l16d5.reset_index(inplace=True)\n",
        "l16d5.drop(['index','location'],axis=1,inplace=True)\n",
        "l16d5.to_csv('location16day5.csv')"
      ],
      "execution_count": 21,
      "outputs": [
        {
          "output_type": "stream",
          "name": "stderr",
          "text": [
            "/usr/local/lib/python3.7/dist-packages/pandas/core/frame.py:4174: SettingWithCopyWarning: \n",
            "A value is trying to be set on a copy of a slice from a DataFrame\n",
            "\n",
            "See the caveats in the documentation: https://pandas.pydata.org/pandas-docs/stable/user_guide/indexing.html#returning-a-view-versus-a-copy\n",
            "  errors=errors,\n"
          ]
        }
      ]
    },
    {
      "cell_type": "markdown",
      "metadata": {
        "id": "3NGhyYEV4KbS"
      },
      "source": [
        "Loc17 day5"
      ]
    },
    {
      "cell_type": "code",
      "metadata": {
        "colab": {
          "base_uri": "https://localhost:8080/"
        },
        "id": "_G7kUSgV4Jnv",
        "outputId": "2d382ae6-a0f7-4a9a-8994-2e48831c8d84"
      },
      "source": [
        "l17d5 = data[data['location']==17]\n",
        "l17d5.reset_index(inplace=True)\n",
        "l17d5.drop(['index','location'],axis=1,inplace=True)\n",
        "l17d5.to_csv('location17day5.csv')"
      ],
      "execution_count": 22,
      "outputs": [
        {
          "output_type": "stream",
          "name": "stderr",
          "text": [
            "/usr/local/lib/python3.7/dist-packages/pandas/core/frame.py:4174: SettingWithCopyWarning: \n",
            "A value is trying to be set on a copy of a slice from a DataFrame\n",
            "\n",
            "See the caveats in the documentation: https://pandas.pydata.org/pandas-docs/stable/user_guide/indexing.html#returning-a-view-versus-a-copy\n",
            "  errors=errors,\n"
          ]
        }
      ]
    },
    {
      "cell_type": "markdown",
      "metadata": {
        "id": "lFWsuhh44UJG"
      },
      "source": [
        "Loc18 day5"
      ]
    },
    {
      "cell_type": "code",
      "metadata": {
        "colab": {
          "base_uri": "https://localhost:8080/"
        },
        "id": "5EPmR-9o4S7F",
        "outputId": "2b9c7d29-b879-4db3-9f08-061924c4f003"
      },
      "source": [
        "l18d5 = data[data['location']==18]\n",
        "l18d5.reset_index(inplace=True)\n",
        "l18d5.drop(['index','location'],axis=1,inplace=True)\n",
        "l18d5.to_csv('location18day5.csv')"
      ],
      "execution_count": 23,
      "outputs": [
        {
          "output_type": "stream",
          "name": "stderr",
          "text": [
            "/usr/local/lib/python3.7/dist-packages/pandas/core/frame.py:4174: SettingWithCopyWarning: \n",
            "A value is trying to be set on a copy of a slice from a DataFrame\n",
            "\n",
            "See the caveats in the documentation: https://pandas.pydata.org/pandas-docs/stable/user_guide/indexing.html#returning-a-view-versus-a-copy\n",
            "  errors=errors,\n"
          ]
        }
      ]
    },
    {
      "cell_type": "markdown",
      "metadata": {
        "id": "IhC_IkBx4ZkQ"
      },
      "source": [
        "Loc19 day5"
      ]
    },
    {
      "cell_type": "code",
      "metadata": {
        "colab": {
          "base_uri": "https://localhost:8080/"
        },
        "id": "ySMuGEwz4Y0b",
        "outputId": "e96a0402-4bd5-45e4-ecfb-04bc30671eb1"
      },
      "source": [
        "l19d5 = data[data['location']==19]\n",
        "l19d5.reset_index(inplace=True)\n",
        "l19d5.drop(['index','location'],axis=1,inplace=True)\n",
        "l19d5.to_csv('location19day5.csv')"
      ],
      "execution_count": 24,
      "outputs": [
        {
          "output_type": "stream",
          "name": "stderr",
          "text": [
            "/usr/local/lib/python3.7/dist-packages/pandas/core/frame.py:4174: SettingWithCopyWarning: \n",
            "A value is trying to be set on a copy of a slice from a DataFrame\n",
            "\n",
            "See the caveats in the documentation: https://pandas.pydata.org/pandas-docs/stable/user_guide/indexing.html#returning-a-view-versus-a-copy\n",
            "  errors=errors,\n"
          ]
        }
      ]
    },
    {
      "cell_type": "code",
      "metadata": {
        "id": "9zsOVpzJ4eqH"
      },
      "source": [
        ""
      ],
      "execution_count": null,
      "outputs": []
    }
  ]
}