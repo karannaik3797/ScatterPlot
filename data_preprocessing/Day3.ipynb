{
  "nbformat": 4,
  "nbformat_minor": 0,
  "metadata": {
    "colab": {
      "name": "Day3.ipynb",
      "provenance": [],
      "collapsed_sections": []
    },
    "kernelspec": {
      "name": "python3",
      "display_name": "Python 3"
    },
    "language_info": {
      "name": "python"
    }
  },
  "cells": [
    {
      "cell_type": "code",
      "metadata": {
        "id": "duHGv9wdnVGe"
      },
      "source": [
        "import numpy as np\n",
        "import pandas as pd\n"
      ],
      "execution_count": null,
      "outputs": []
    },
    {
      "cell_type": "code",
      "metadata": {
        "id": "MnK1vbPVntTd"
      },
      "source": [
        "data = pd.read_csv('mc1-reports-data.csv')\n",
        "#data = data.sort_values('time')"
      ],
      "execution_count": null,
      "outputs": []
    },
    {
      "cell_type": "code",
      "metadata": {
        "id": "ccLlZW5wnv8-"
      },
      "source": [
        "data.reset_index(inplace=True)"
      ],
      "execution_count": null,
      "outputs": []
    },
    {
      "cell_type": "code",
      "metadata": {
        "colab": {
          "base_uri": "https://localhost:8080/",
          "height": 423
        },
        "id": "3swO5ld3nx5H",
        "outputId": "798e883b-646a-4d61-9d13-fa7e68675970"
      },
      "source": [
        "data.drop('index',inplace=True,axis=1)\n",
        "data"
      ],
      "execution_count": null,
      "outputs": [
        {
          "output_type": "execute_result",
          "data": {
            "text/html": [
              "<div>\n",
              "<style scoped>\n",
              "    .dataframe tbody tr th:only-of-type {\n",
              "        vertical-align: middle;\n",
              "    }\n",
              "\n",
              "    .dataframe tbody tr th {\n",
              "        vertical-align: top;\n",
              "    }\n",
              "\n",
              "    .dataframe thead th {\n",
              "        text-align: right;\n",
              "    }\n",
              "</style>\n",
              "<table border=\"1\" class=\"dataframe\">\n",
              "  <thead>\n",
              "    <tr style=\"text-align: right;\">\n",
              "      <th></th>\n",
              "      <th>time</th>\n",
              "      <th>sewer_and_water</th>\n",
              "      <th>power</th>\n",
              "      <th>roads_and_bridges</th>\n",
              "      <th>medical</th>\n",
              "      <th>buildings</th>\n",
              "      <th>shake_intensity</th>\n",
              "      <th>location</th>\n",
              "    </tr>\n",
              "  </thead>\n",
              "  <tbody>\n",
              "    <tr>\n",
              "      <th>0</th>\n",
              "      <td>4/6/2020 0:00</td>\n",
              "      <td>2.0</td>\n",
              "      <td>8</td>\n",
              "      <td>5</td>\n",
              "      <td>NaN</td>\n",
              "      <td>3.0</td>\n",
              "      <td>0.0</td>\n",
              "      <td>2</td>\n",
              "    </tr>\n",
              "    <tr>\n",
              "      <th>1</th>\n",
              "      <td>4/6/2020 0:00</td>\n",
              "      <td>6.0</td>\n",
              "      <td>3</td>\n",
              "      <td>10</td>\n",
              "      <td>10.0</td>\n",
              "      <td>9.0</td>\n",
              "      <td>NaN</td>\n",
              "      <td>3</td>\n",
              "    </tr>\n",
              "    <tr>\n",
              "      <th>2</th>\n",
              "      <td>4/6/2020 0:00</td>\n",
              "      <td>10.0</td>\n",
              "      <td>2</td>\n",
              "      <td>9</td>\n",
              "      <td>NaN</td>\n",
              "      <td>10.0</td>\n",
              "      <td>NaN</td>\n",
              "      <td>4</td>\n",
              "    </tr>\n",
              "    <tr>\n",
              "      <th>3</th>\n",
              "      <td>4/6/2020 0:00</td>\n",
              "      <td>8.0</td>\n",
              "      <td>1</td>\n",
              "      <td>10</td>\n",
              "      <td>NaN</td>\n",
              "      <td>3.0</td>\n",
              "      <td>1.0</td>\n",
              "      <td>4</td>\n",
              "    </tr>\n",
              "    <tr>\n",
              "      <th>4</th>\n",
              "      <td>4/6/2020 0:00</td>\n",
              "      <td>9.0</td>\n",
              "      <td>7</td>\n",
              "      <td>5</td>\n",
              "      <td>NaN</td>\n",
              "      <td>4.0</td>\n",
              "      <td>NaN</td>\n",
              "      <td>8</td>\n",
              "    </tr>\n",
              "    <tr>\n",
              "      <th>...</th>\n",
              "      <td>...</td>\n",
              "      <td>...</td>\n",
              "      <td>...</td>\n",
              "      <td>...</td>\n",
              "      <td>...</td>\n",
              "      <td>...</td>\n",
              "      <td>...</td>\n",
              "      <td>...</td>\n",
              "    </tr>\n",
              "    <tr>\n",
              "      <th>83065</th>\n",
              "      <td>4/11/2020 0:00</td>\n",
              "      <td>5.0</td>\n",
              "      <td>2</td>\n",
              "      <td>2</td>\n",
              "      <td>NaN</td>\n",
              "      <td>8.0</td>\n",
              "      <td>NaN</td>\n",
              "      <td>2</td>\n",
              "    </tr>\n",
              "    <tr>\n",
              "      <th>83066</th>\n",
              "      <td>4/11/2020 0:00</td>\n",
              "      <td>7.0</td>\n",
              "      <td>7</td>\n",
              "      <td>8</td>\n",
              "      <td>10.0</td>\n",
              "      <td>10.0</td>\n",
              "      <td>NaN</td>\n",
              "      <td>6</td>\n",
              "    </tr>\n",
              "    <tr>\n",
              "      <th>83067</th>\n",
              "      <td>4/11/2020 0:00</td>\n",
              "      <td>4.0</td>\n",
              "      <td>9</td>\n",
              "      <td>7</td>\n",
              "      <td>NaN</td>\n",
              "      <td>7.0</td>\n",
              "      <td>NaN</td>\n",
              "      <td>13</td>\n",
              "    </tr>\n",
              "    <tr>\n",
              "      <th>83068</th>\n",
              "      <td>4/11/2020 0:00</td>\n",
              "      <td>5.0</td>\n",
              "      <td>1</td>\n",
              "      <td>3</td>\n",
              "      <td>NaN</td>\n",
              "      <td>2.0</td>\n",
              "      <td>NaN</td>\n",
              "      <td>15</td>\n",
              "    </tr>\n",
              "    <tr>\n",
              "      <th>83069</th>\n",
              "      <td>4/11/2020 0:00</td>\n",
              "      <td>5.0</td>\n",
              "      <td>9</td>\n",
              "      <td>6</td>\n",
              "      <td>NaN</td>\n",
              "      <td>2.0</td>\n",
              "      <td>0.0</td>\n",
              "      <td>18</td>\n",
              "    </tr>\n",
              "  </tbody>\n",
              "</table>\n",
              "<p>83070 rows × 8 columns</p>\n",
              "</div>"
            ],
            "text/plain": [
              "                 time  sewer_and_water  ...  shake_intensity  location\n",
              "0       4/6/2020 0:00              2.0  ...              0.0         2\n",
              "1       4/6/2020 0:00              6.0  ...              NaN         3\n",
              "2       4/6/2020 0:00             10.0  ...              NaN         4\n",
              "3       4/6/2020 0:00              8.0  ...              1.0         4\n",
              "4       4/6/2020 0:00              9.0  ...              NaN         8\n",
              "...               ...              ...  ...              ...       ...\n",
              "83065  4/11/2020 0:00              5.0  ...              NaN         2\n",
              "83066  4/11/2020 0:00              7.0  ...              NaN         6\n",
              "83067  4/11/2020 0:00              4.0  ...              NaN        13\n",
              "83068  4/11/2020 0:00              5.0  ...              NaN        15\n",
              "83069  4/11/2020 0:00              5.0  ...              0.0        18\n",
              "\n",
              "[83070 rows x 8 columns]"
            ]
          },
          "metadata": {},
          "execution_count": 10
        }
      ]
    },
    {
      "cell_type": "code",
      "metadata": {
        "colab": {
          "base_uri": "https://localhost:8080/",
          "height": 423
        },
        "id": "Vd6f_S2Rn0p0",
        "outputId": "caf537f9-b8a0-4d5b-9b55-efe0a541bcdd"
      },
      "source": [
        "data = data[7215:50885]\n",
        "data"
      ],
      "execution_count": null,
      "outputs": [
        {
          "output_type": "execute_result",
          "data": {
            "text/html": [
              "<div>\n",
              "<style scoped>\n",
              "    .dataframe tbody tr th:only-of-type {\n",
              "        vertical-align: middle;\n",
              "    }\n",
              "\n",
              "    .dataframe tbody tr th {\n",
              "        vertical-align: top;\n",
              "    }\n",
              "\n",
              "    .dataframe thead th {\n",
              "        text-align: right;\n",
              "    }\n",
              "</style>\n",
              "<table border=\"1\" class=\"dataframe\">\n",
              "  <thead>\n",
              "    <tr style=\"text-align: right;\">\n",
              "      <th></th>\n",
              "      <th>time</th>\n",
              "      <th>sewer_and_water</th>\n",
              "      <th>power</th>\n",
              "      <th>roads_and_bridges</th>\n",
              "      <th>medical</th>\n",
              "      <th>buildings</th>\n",
              "      <th>shake_intensity</th>\n",
              "      <th>location</th>\n",
              "    </tr>\n",
              "  </thead>\n",
              "  <tbody>\n",
              "    <tr>\n",
              "      <th>7215</th>\n",
              "      <td>4/8/2020 0:00</td>\n",
              "      <td>7.0</td>\n",
              "      <td>7</td>\n",
              "      <td>0</td>\n",
              "      <td>2.0</td>\n",
              "      <td>10.0</td>\n",
              "      <td>NaN</td>\n",
              "      <td>5</td>\n",
              "    </tr>\n",
              "    <tr>\n",
              "      <th>7216</th>\n",
              "      <td>4/8/2020 0:00</td>\n",
              "      <td>1.0</td>\n",
              "      <td>5</td>\n",
              "      <td>10</td>\n",
              "      <td>NaN</td>\n",
              "      <td>10.0</td>\n",
              "      <td>NaN</td>\n",
              "      <td>8</td>\n",
              "    </tr>\n",
              "    <tr>\n",
              "      <th>7217</th>\n",
              "      <td>4/8/2020 0:00</td>\n",
              "      <td>5.0</td>\n",
              "      <td>1</td>\n",
              "      <td>10</td>\n",
              "      <td>NaN</td>\n",
              "      <td>5.0</td>\n",
              "      <td>NaN</td>\n",
              "      <td>13</td>\n",
              "    </tr>\n",
              "    <tr>\n",
              "      <th>7218</th>\n",
              "      <td>4/8/2020 0:00</td>\n",
              "      <td>2.0</td>\n",
              "      <td>1</td>\n",
              "      <td>8</td>\n",
              "      <td>2.0</td>\n",
              "      <td>2.0</td>\n",
              "      <td>NaN</td>\n",
              "      <td>16</td>\n",
              "    </tr>\n",
              "    <tr>\n",
              "      <th>7219</th>\n",
              "      <td>4/8/2020 0:05</td>\n",
              "      <td>0.0</td>\n",
              "      <td>10</td>\n",
              "      <td>5</td>\n",
              "      <td>NaN</td>\n",
              "      <td>5.0</td>\n",
              "      <td>1.0</td>\n",
              "      <td>2</td>\n",
              "    </tr>\n",
              "    <tr>\n",
              "      <th>...</th>\n",
              "      <td>...</td>\n",
              "      <td>...</td>\n",
              "      <td>...</td>\n",
              "      <td>...</td>\n",
              "      <td>...</td>\n",
              "      <td>...</td>\n",
              "      <td>...</td>\n",
              "      <td>...</td>\n",
              "    </tr>\n",
              "    <tr>\n",
              "      <th>50880</th>\n",
              "      <td>4/8/2020 23:55</td>\n",
              "      <td>3.0</td>\n",
              "      <td>9</td>\n",
              "      <td>3</td>\n",
              "      <td>9.0</td>\n",
              "      <td>10.0</td>\n",
              "      <td>NaN</td>\n",
              "      <td>6</td>\n",
              "    </tr>\n",
              "    <tr>\n",
              "      <th>50881</th>\n",
              "      <td>4/8/2020 23:55</td>\n",
              "      <td>3.0</td>\n",
              "      <td>1</td>\n",
              "      <td>0</td>\n",
              "      <td>8.0</td>\n",
              "      <td>9.0</td>\n",
              "      <td>0.0</td>\n",
              "      <td>9</td>\n",
              "    </tr>\n",
              "    <tr>\n",
              "      <th>50882</th>\n",
              "      <td>4/8/2020 23:55</td>\n",
              "      <td>3.0</td>\n",
              "      <td>10</td>\n",
              "      <td>6</td>\n",
              "      <td>NaN</td>\n",
              "      <td>5.0</td>\n",
              "      <td>NaN</td>\n",
              "      <td>13</td>\n",
              "    </tr>\n",
              "    <tr>\n",
              "      <th>50883</th>\n",
              "      <td>4/8/2020 23:55</td>\n",
              "      <td>5.0</td>\n",
              "      <td>10</td>\n",
              "      <td>4</td>\n",
              "      <td>NaN</td>\n",
              "      <td>6.0</td>\n",
              "      <td>NaN</td>\n",
              "      <td>15</td>\n",
              "    </tr>\n",
              "    <tr>\n",
              "      <th>50884</th>\n",
              "      <td>4/8/2020 23:55</td>\n",
              "      <td>0.0</td>\n",
              "      <td>7</td>\n",
              "      <td>10</td>\n",
              "      <td>NaN</td>\n",
              "      <td>5.0</td>\n",
              "      <td>NaN</td>\n",
              "      <td>19</td>\n",
              "    </tr>\n",
              "  </tbody>\n",
              "</table>\n",
              "<p>43670 rows × 8 columns</p>\n",
              "</div>"
            ],
            "text/plain": [
              "                 time  sewer_and_water  ...  shake_intensity  location\n",
              "7215    4/8/2020 0:00              7.0  ...              NaN         5\n",
              "7216    4/8/2020 0:00              1.0  ...              NaN         8\n",
              "7217    4/8/2020 0:00              5.0  ...              NaN        13\n",
              "7218    4/8/2020 0:00              2.0  ...              NaN        16\n",
              "7219    4/8/2020 0:05              0.0  ...              1.0         2\n",
              "...               ...              ...  ...              ...       ...\n",
              "50880  4/8/2020 23:55              3.0  ...              NaN         6\n",
              "50881  4/8/2020 23:55              3.0  ...              0.0         9\n",
              "50882  4/8/2020 23:55              3.0  ...              NaN        13\n",
              "50883  4/8/2020 23:55              5.0  ...              NaN        15\n",
              "50884  4/8/2020 23:55              0.0  ...              NaN        19\n",
              "\n",
              "[43670 rows x 8 columns]"
            ]
          },
          "metadata": {},
          "execution_count": 12
        }
      ]
    },
    {
      "cell_type": "markdown",
      "metadata": {
        "id": "Za_NsmWCqdlM"
      },
      "source": [
        "Loc1 day3"
      ]
    },
    {
      "cell_type": "code",
      "metadata": {
        "colab": {
          "base_uri": "https://localhost:8080/"
        },
        "id": "dWpIJ1FwqK7t",
        "outputId": "624c40e3-cffd-4fe7-cb5b-8d8e6d7c17c6"
      },
      "source": [
        "l1d3 = data[data['location']==1]\n",
        "l1d3.reset_index(inplace=True)\n",
        "l1d3.drop(['index','location'],axis=1,inplace=True)\n",
        "l1d3.to_csv('location1day3.csv')"
      ],
      "execution_count": null,
      "outputs": [
        {
          "output_type": "stream",
          "name": "stderr",
          "text": [
            "/usr/local/lib/python3.7/dist-packages/pandas/core/frame.py:4174: SettingWithCopyWarning: \n",
            "A value is trying to be set on a copy of a slice from a DataFrame\n",
            "\n",
            "See the caveats in the documentation: https://pandas.pydata.org/pandas-docs/stable/user_guide/indexing.html#returning-a-view-versus-a-copy\n",
            "  errors=errors,\n"
          ]
        }
      ]
    },
    {
      "cell_type": "markdown",
      "metadata": {
        "id": "icu5WVnoqneX"
      },
      "source": [
        "Loc2 day3"
      ]
    },
    {
      "cell_type": "code",
      "metadata": {
        "colab": {
          "base_uri": "https://localhost:8080/"
        },
        "id": "PWr_IOqXqlI-",
        "outputId": "a036112d-4340-4609-dbc8-5fc16e1daccf"
      },
      "source": [
        "l2d3 = data[data['location']==2]\n",
        "l2d3.reset_index(inplace=True)\n",
        "l2d3.drop(['index','location'],axis=1,inplace=True)\n",
        "l2d3.to_csv('location2day3.csv')"
      ],
      "execution_count": null,
      "outputs": [
        {
          "output_type": "stream",
          "name": "stderr",
          "text": [
            "/usr/local/lib/python3.7/dist-packages/pandas/core/frame.py:4174: SettingWithCopyWarning: \n",
            "A value is trying to be set on a copy of a slice from a DataFrame\n",
            "\n",
            "See the caveats in the documentation: https://pandas.pydata.org/pandas-docs/stable/user_guide/indexing.html#returning-a-view-versus-a-copy\n",
            "  errors=errors,\n"
          ]
        }
      ]
    },
    {
      "cell_type": "markdown",
      "metadata": {
        "id": "rV4BUQ6Vqu5N"
      },
      "source": [
        "Loc3 day3"
      ]
    },
    {
      "cell_type": "code",
      "metadata": {
        "colab": {
          "base_uri": "https://localhost:8080/"
        },
        "id": "eUlXIF9Uqtsm",
        "outputId": "2bc9b221-2394-4b00-8131-66ed5b6ceb87"
      },
      "source": [
        "l3d3 = data[data['location']==3]\n",
        "l3d3.reset_index(inplace=True)\n",
        "l3d3.drop(['index','location'],axis=1,inplace=True)\n",
        "l3d3.to_csv('location3day3.csv')"
      ],
      "execution_count": null,
      "outputs": [
        {
          "output_type": "stream",
          "name": "stderr",
          "text": [
            "/usr/local/lib/python3.7/dist-packages/pandas/core/frame.py:4174: SettingWithCopyWarning: \n",
            "A value is trying to be set on a copy of a slice from a DataFrame\n",
            "\n",
            "See the caveats in the documentation: https://pandas.pydata.org/pandas-docs/stable/user_guide/indexing.html#returning-a-view-versus-a-copy\n",
            "  errors=errors,\n"
          ]
        }
      ]
    },
    {
      "cell_type": "markdown",
      "metadata": {
        "id": "BGuNobAlq3Br"
      },
      "source": [
        "Lcc4 day3"
      ]
    },
    {
      "cell_type": "code",
      "metadata": {
        "colab": {
          "base_uri": "https://localhost:8080/"
        },
        "id": "yHytgHbkq2D7",
        "outputId": "67cdc34c-d091-43ed-8fb0-27ae53da2eb0"
      },
      "source": [
        "l4d3 = data[data['location']==4]\n",
        "l4d3.reset_index(inplace=True)\n",
        "l4d3.drop(['index','location'],axis=1,inplace=True)\n",
        "l4d3.to_csv('location4day3.csv')"
      ],
      "execution_count": null,
      "outputs": [
        {
          "output_type": "stream",
          "name": "stderr",
          "text": [
            "/usr/local/lib/python3.7/dist-packages/pandas/core/frame.py:4174: SettingWithCopyWarning: \n",
            "A value is trying to be set on a copy of a slice from a DataFrame\n",
            "\n",
            "See the caveats in the documentation: https://pandas.pydata.org/pandas-docs/stable/user_guide/indexing.html#returning-a-view-versus-a-copy\n",
            "  errors=errors,\n"
          ]
        }
      ]
    },
    {
      "cell_type": "markdown",
      "metadata": {
        "id": "joGxw1sVrBLl"
      },
      "source": [
        "Loc5 day3"
      ]
    },
    {
      "cell_type": "code",
      "metadata": {
        "colab": {
          "base_uri": "https://localhost:8080/"
        },
        "id": "-OWs2j-0rAM2",
        "outputId": "0bfc3d2c-29f8-4ce1-8ee5-04a7bf46f143"
      },
      "source": [
        "l5d3 = data[data['location']==5]\n",
        "l5d3.reset_index(inplace=True)\n",
        "l5d3.drop(['index','location'],axis=1,inplace=True)\n",
        "l5d3.to_csv('location5day3.csv')"
      ],
      "execution_count": null,
      "outputs": [
        {
          "output_type": "stream",
          "name": "stderr",
          "text": [
            "/usr/local/lib/python3.7/dist-packages/pandas/core/frame.py:4174: SettingWithCopyWarning: \n",
            "A value is trying to be set on a copy of a slice from a DataFrame\n",
            "\n",
            "See the caveats in the documentation: https://pandas.pydata.org/pandas-docs/stable/user_guide/indexing.html#returning-a-view-versus-a-copy\n",
            "  errors=errors,\n"
          ]
        }
      ]
    },
    {
      "cell_type": "markdown",
      "metadata": {
        "id": "xmqsOrG1rHnW"
      },
      "source": [
        "Loc6 day3"
      ]
    },
    {
      "cell_type": "code",
      "metadata": {
        "colab": {
          "base_uri": "https://localhost:8080/"
        },
        "id": "tuqYZ_Q_rGYa",
        "outputId": "86b96e30-1853-400d-b43d-3413e916e95c"
      },
      "source": [
        "l6d3 = data[data['location']==6]\n",
        "l6d3.reset_index(inplace=True)\n",
        "l6d3.drop(['index','location'],axis=1,inplace=True)\n",
        "l6d3.to_csv('location6day3.csv')"
      ],
      "execution_count": null,
      "outputs": [
        {
          "output_type": "stream",
          "name": "stderr",
          "text": [
            "/usr/local/lib/python3.7/dist-packages/pandas/core/frame.py:4174: SettingWithCopyWarning: \n",
            "A value is trying to be set on a copy of a slice from a DataFrame\n",
            "\n",
            "See the caveats in the documentation: https://pandas.pydata.org/pandas-docs/stable/user_guide/indexing.html#returning-a-view-versus-a-copy\n",
            "  errors=errors,\n"
          ]
        }
      ]
    },
    {
      "cell_type": "markdown",
      "metadata": {
        "id": "yW11MTF8rYdy"
      },
      "source": [
        "Loc7 day3"
      ]
    },
    {
      "cell_type": "code",
      "metadata": {
        "colab": {
          "base_uri": "https://localhost:8080/"
        },
        "id": "wy2fXbV2rMgc",
        "outputId": "3f2f355e-30ad-4e71-ea3e-479ba3abb7a0"
      },
      "source": [
        "l7d3 = data[data['location']==7]\n",
        "l7d3.reset_index(inplace=True)\n",
        "l7d3.drop(['index','location'],axis=1,inplace=True)\n",
        "l7d3.to_csv('location7day3.csv')"
      ],
      "execution_count": null,
      "outputs": [
        {
          "output_type": "stream",
          "name": "stderr",
          "text": [
            "/usr/local/lib/python3.7/dist-packages/pandas/core/frame.py:4174: SettingWithCopyWarning: \n",
            "A value is trying to be set on a copy of a slice from a DataFrame\n",
            "\n",
            "See the caveats in the documentation: https://pandas.pydata.org/pandas-docs/stable/user_guide/indexing.html#returning-a-view-versus-a-copy\n",
            "  errors=errors,\n"
          ]
        }
      ]
    },
    {
      "cell_type": "markdown",
      "metadata": {
        "id": "1LqP1gwMreQk"
      },
      "source": [
        "Loc8 day3"
      ]
    },
    {
      "cell_type": "code",
      "metadata": {
        "colab": {
          "base_uri": "https://localhost:8080/"
        },
        "id": "vZ61w4nzrdUV",
        "outputId": "1ae7b0d4-6fde-40be-f841-03da4457b69e"
      },
      "source": [
        "l8d3 = data[data['location']==8]\n",
        "l8d3.reset_index(inplace=True)\n",
        "l8d3.drop(['index','location'],axis=1,inplace=True)\n",
        "l8d3.to_csv('location8day3.csv')"
      ],
      "execution_count": null,
      "outputs": [
        {
          "output_type": "stream",
          "name": "stderr",
          "text": [
            "/usr/local/lib/python3.7/dist-packages/pandas/core/frame.py:4174: SettingWithCopyWarning: \n",
            "A value is trying to be set on a copy of a slice from a DataFrame\n",
            "\n",
            "See the caveats in the documentation: https://pandas.pydata.org/pandas-docs/stable/user_guide/indexing.html#returning-a-view-versus-a-copy\n",
            "  errors=errors,\n"
          ]
        }
      ]
    },
    {
      "cell_type": "markdown",
      "metadata": {
        "id": "E4vcYfglrjtN"
      },
      "source": [
        "Loc9 day3"
      ]
    },
    {
      "cell_type": "code",
      "metadata": {
        "colab": {
          "base_uri": "https://localhost:8080/"
        },
        "id": "7zZMfuFVri0X",
        "outputId": "6c9ff860-c31b-4a41-e3c7-32f7b737c23a"
      },
      "source": [
        "l9d3 = data[data['location']==9]\n",
        "l9d3.reset_index(inplace=True)\n",
        "l9d3.drop(['index','location'],axis=1,inplace=True)\n",
        "l9d3.to_csv('location9day3.csv')"
      ],
      "execution_count": null,
      "outputs": [
        {
          "output_type": "stream",
          "name": "stderr",
          "text": [
            "/usr/local/lib/python3.7/dist-packages/pandas/core/frame.py:4174: SettingWithCopyWarning: \n",
            "A value is trying to be set on a copy of a slice from a DataFrame\n",
            "\n",
            "See the caveats in the documentation: https://pandas.pydata.org/pandas-docs/stable/user_guide/indexing.html#returning-a-view-versus-a-copy\n",
            "  errors=errors,\n"
          ]
        }
      ]
    },
    {
      "cell_type": "markdown",
      "metadata": {
        "id": "LEBJSF1mrpp1"
      },
      "source": [
        "Loc10 day3"
      ]
    },
    {
      "cell_type": "code",
      "metadata": {
        "colab": {
          "base_uri": "https://localhost:8080/"
        },
        "id": "J3DdEmpnro15",
        "outputId": "182d830e-48f7-4857-a8b2-ea72d344e711"
      },
      "source": [
        "l10d3 = data[data['location']==10]\n",
        "l10d3.reset_index(inplace=True)\n",
        "l10d3.drop(['index','location'],axis=1,inplace=True)\n",
        "l10d3.to_csv('location10day3.csv')"
      ],
      "execution_count": null,
      "outputs": [
        {
          "output_type": "stream",
          "name": "stderr",
          "text": [
            "/usr/local/lib/python3.7/dist-packages/pandas/core/frame.py:4174: SettingWithCopyWarning: \n",
            "A value is trying to be set on a copy of a slice from a DataFrame\n",
            "\n",
            "See the caveats in the documentation: https://pandas.pydata.org/pandas-docs/stable/user_guide/indexing.html#returning-a-view-versus-a-copy\n",
            "  errors=errors,\n"
          ]
        }
      ]
    },
    {
      "cell_type": "markdown",
      "metadata": {
        "id": "NLaSla7yr0xp"
      },
      "source": [
        "Loc11 day3"
      ]
    },
    {
      "cell_type": "code",
      "metadata": {
        "colab": {
          "base_uri": "https://localhost:8080/"
        },
        "id": "u2XUzxS7rz9p",
        "outputId": "1937132e-5bce-422c-d15b-49c2190ce0e0"
      },
      "source": [
        "l11d3 = data[data['location']==11]\n",
        "l11d3.reset_index(inplace=True)\n",
        "l11d3.drop(['index','location'],axis=1,inplace=True)\n",
        "l11d3.to_csv('location11day3.csv')"
      ],
      "execution_count": null,
      "outputs": [
        {
          "output_type": "stream",
          "name": "stderr",
          "text": [
            "/usr/local/lib/python3.7/dist-packages/pandas/core/frame.py:4174: SettingWithCopyWarning: \n",
            "A value is trying to be set on a copy of a slice from a DataFrame\n",
            "\n",
            "See the caveats in the documentation: https://pandas.pydata.org/pandas-docs/stable/user_guide/indexing.html#returning-a-view-versus-a-copy\n",
            "  errors=errors,\n"
          ]
        }
      ]
    },
    {
      "cell_type": "markdown",
      "metadata": {
        "id": "ZttowSenr7i2"
      },
      "source": [
        "Loc12 day3"
      ]
    },
    {
      "cell_type": "code",
      "metadata": {
        "colab": {
          "base_uri": "https://localhost:8080/"
        },
        "id": "XpvhaZWQr6na",
        "outputId": "41530680-3b18-4074-febd-75f3527adf17"
      },
      "source": [
        "l12d3 = data[data['location']==12]\n",
        "l12d3.reset_index(inplace=True)\n",
        "l12d3.drop(['index','location'],axis=1,inplace=True)\n",
        "l12d3.to_csv('location12day3.csv')"
      ],
      "execution_count": null,
      "outputs": [
        {
          "output_type": "stream",
          "name": "stderr",
          "text": [
            "/usr/local/lib/python3.7/dist-packages/pandas/core/frame.py:4174: SettingWithCopyWarning: \n",
            "A value is trying to be set on a copy of a slice from a DataFrame\n",
            "\n",
            "See the caveats in the documentation: https://pandas.pydata.org/pandas-docs/stable/user_guide/indexing.html#returning-a-view-versus-a-copy\n",
            "  errors=errors,\n"
          ]
        }
      ]
    },
    {
      "cell_type": "markdown",
      "metadata": {
        "id": "oeAMPz9zsC46"
      },
      "source": [
        "Loc13 day3"
      ]
    },
    {
      "cell_type": "code",
      "metadata": {
        "colab": {
          "base_uri": "https://localhost:8080/"
        },
        "id": "QBec-YnAsCOS",
        "outputId": "4c268b2d-b9cb-418c-9e51-18762a5b5c3a"
      },
      "source": [
        "l13d3 = data[data['location']==13]\n",
        "l13d3.reset_index(inplace=True)\n",
        "l13d3.drop(['index','location'],axis=1,inplace=True)\n",
        "l13d3.to_csv('location13day3.csv')"
      ],
      "execution_count": null,
      "outputs": [
        {
          "output_type": "stream",
          "name": "stderr",
          "text": [
            "/usr/local/lib/python3.7/dist-packages/pandas/core/frame.py:4174: SettingWithCopyWarning: \n",
            "A value is trying to be set on a copy of a slice from a DataFrame\n",
            "\n",
            "See the caveats in the documentation: https://pandas.pydata.org/pandas-docs/stable/user_guide/indexing.html#returning-a-view-versus-a-copy\n",
            "  errors=errors,\n"
          ]
        }
      ]
    },
    {
      "cell_type": "markdown",
      "metadata": {
        "id": "Mq7JC-oosJBm"
      },
      "source": [
        "Loc14 day3"
      ]
    },
    {
      "cell_type": "code",
      "metadata": {
        "colab": {
          "base_uri": "https://localhost:8080/"
        },
        "id": "A21DI3HvsH6w",
        "outputId": "ad766227-2e08-4b4b-ec14-274e6b8c8e57"
      },
      "source": [
        "l14d3 = data[data['location']==14]\n",
        "l14d3.reset_index(inplace=True)\n",
        "l14d3.drop(['index','location'],axis=1,inplace=True)\n",
        "l14d3.to_csv('location14day3.csv')"
      ],
      "execution_count": null,
      "outputs": [
        {
          "output_type": "stream",
          "name": "stderr",
          "text": [
            "/usr/local/lib/python3.7/dist-packages/pandas/core/frame.py:4174: SettingWithCopyWarning: \n",
            "A value is trying to be set on a copy of a slice from a DataFrame\n",
            "\n",
            "See the caveats in the documentation: https://pandas.pydata.org/pandas-docs/stable/user_guide/indexing.html#returning-a-view-versus-a-copy\n",
            "  errors=errors,\n"
          ]
        }
      ]
    },
    {
      "cell_type": "markdown",
      "metadata": {
        "id": "xt06oq-qsO-X"
      },
      "source": [
        "Loc15 day3"
      ]
    },
    {
      "cell_type": "code",
      "metadata": {
        "colab": {
          "base_uri": "https://localhost:8080/"
        },
        "id": "z59j7MPRsN_8",
        "outputId": "1881f790-b046-412a-f1a5-2a16feddc55e"
      },
      "source": [
        "l15d3 = data[data['location']==15]\n",
        "l15d3.reset_index(inplace=True)\n",
        "l15d3.drop(['index','location'],axis=1,inplace=True)\n",
        "l15d3.to_csv('location15day3.csv')"
      ],
      "execution_count": null,
      "outputs": [
        {
          "output_type": "stream",
          "name": "stderr",
          "text": [
            "/usr/local/lib/python3.7/dist-packages/pandas/core/frame.py:4174: SettingWithCopyWarning: \n",
            "A value is trying to be set on a copy of a slice from a DataFrame\n",
            "\n",
            "See the caveats in the documentation: https://pandas.pydata.org/pandas-docs/stable/user_guide/indexing.html#returning-a-view-versus-a-copy\n",
            "  errors=errors,\n"
          ]
        }
      ]
    },
    {
      "cell_type": "markdown",
      "metadata": {
        "id": "kVDx3-xGsVJo"
      },
      "source": [
        "Loc16 day3"
      ]
    },
    {
      "cell_type": "code",
      "metadata": {
        "colab": {
          "base_uri": "https://localhost:8080/"
        },
        "id": "Ncy0CuA5sUNm",
        "outputId": "c821304f-c64d-4135-c060-7b65302600e3"
      },
      "source": [
        "l16d3 = data[data['location']==16]\n",
        "l16d3.reset_index(inplace=True)\n",
        "l16d3.drop(['index','location'],axis=1,inplace=True)\n",
        "l16d3.to_csv('location16day3.csv')"
      ],
      "execution_count": null,
      "outputs": [
        {
          "output_type": "stream",
          "name": "stderr",
          "text": [
            "/usr/local/lib/python3.7/dist-packages/pandas/core/frame.py:4174: SettingWithCopyWarning: \n",
            "A value is trying to be set on a copy of a slice from a DataFrame\n",
            "\n",
            "See the caveats in the documentation: https://pandas.pydata.org/pandas-docs/stable/user_guide/indexing.html#returning-a-view-versus-a-copy\n",
            "  errors=errors,\n"
          ]
        }
      ]
    },
    {
      "cell_type": "markdown",
      "metadata": {
        "id": "Fw4mPpIKsawn"
      },
      "source": [
        "Loc17 day3"
      ]
    },
    {
      "cell_type": "code",
      "metadata": {
        "colab": {
          "base_uri": "https://localhost:8080/"
        },
        "id": "Bk6Ze-tFsZyw",
        "outputId": "660cce79-4f43-4ff2-f938-4000a74fd7b2"
      },
      "source": [
        "l17d3 = data[data['location']==17]\n",
        "l17d3.reset_index(inplace=True)\n",
        "l17d3.drop(['index','location'],axis=1,inplace=True)\n",
        "l17d3.to_csv('location17day3.csv')"
      ],
      "execution_count": null,
      "outputs": [
        {
          "output_type": "stream",
          "name": "stderr",
          "text": [
            "/usr/local/lib/python3.7/dist-packages/pandas/core/frame.py:4174: SettingWithCopyWarning: \n",
            "A value is trying to be set on a copy of a slice from a DataFrame\n",
            "\n",
            "See the caveats in the documentation: https://pandas.pydata.org/pandas-docs/stable/user_guide/indexing.html#returning-a-view-versus-a-copy\n",
            "  errors=errors,\n"
          ]
        }
      ]
    },
    {
      "cell_type": "markdown",
      "metadata": {
        "id": "HFlGVpyJsgUf"
      },
      "source": [
        "Loc18 day3"
      ]
    },
    {
      "cell_type": "code",
      "metadata": {
        "colab": {
          "base_uri": "https://localhost:8080/"
        },
        "id": "hA7FfpWesfH0",
        "outputId": "fe76c978-0414-4bec-e44c-3278e90ea3c4"
      },
      "source": [
        "l18d3 = data[data['location']==18]\n",
        "l18d3.reset_index(inplace=True)\n",
        "l18d3.drop(['index','location'],axis=1,inplace=True)\n",
        "l18d3.to_csv('location18day3.csv')"
      ],
      "execution_count": null,
      "outputs": [
        {
          "output_type": "stream",
          "name": "stderr",
          "text": [
            "/usr/local/lib/python3.7/dist-packages/pandas/core/frame.py:4174: SettingWithCopyWarning: \n",
            "A value is trying to be set on a copy of a slice from a DataFrame\n",
            "\n",
            "See the caveats in the documentation: https://pandas.pydata.org/pandas-docs/stable/user_guide/indexing.html#returning-a-view-versus-a-copy\n",
            "  errors=errors,\n"
          ]
        }
      ]
    },
    {
      "cell_type": "markdown",
      "metadata": {
        "id": "6f9aESfMspBF"
      },
      "source": [
        "Loc19 day3"
      ]
    },
    {
      "cell_type": "code",
      "metadata": {
        "colab": {
          "base_uri": "https://localhost:8080/"
        },
        "id": "NcLv5l9FsoNz",
        "outputId": "3f30e2a9-1e60-4e7d-eb40-6e72af422fbb"
      },
      "source": [
        "l19d3 = data[data['location']==19]\n",
        "l19d3.reset_index(inplace=True)\n",
        "l19d3.drop(['index','location'],axis=1,inplace=True)\n",
        "l19d3.to_csv('location19day3.csv')"
      ],
      "execution_count": null,
      "outputs": [
        {
          "output_type": "stream",
          "name": "stderr",
          "text": [
            "/usr/local/lib/python3.7/dist-packages/pandas/core/frame.py:4174: SettingWithCopyWarning: \n",
            "A value is trying to be set on a copy of a slice from a DataFrame\n",
            "\n",
            "See the caveats in the documentation: https://pandas.pydata.org/pandas-docs/stable/user_guide/indexing.html#returning-a-view-versus-a-copy\n",
            "  errors=errors,\n"
          ]
        }
      ]
    },
    {
      "cell_type": "code",
      "metadata": {
        "id": "U3HFuFlmsuSW"
      },
      "source": [
        ""
      ],
      "execution_count": null,
      "outputs": []
    }
  ]
}