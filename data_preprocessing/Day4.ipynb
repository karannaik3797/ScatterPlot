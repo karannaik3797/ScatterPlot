{
  "nbformat": 4,
  "nbformat_minor": 0,
  "metadata": {
    "colab": {
      "name": "Day4.ipynb",
      "provenance": [],
      "collapsed_sections": []
    },
    "kernelspec": {
      "name": "python3",
      "display_name": "Python 3"
    },
    "language_info": {
      "name": "python"
    }
  },
  "cells": [
    {
      "cell_type": "code",
      "metadata": {
        "id": "na-1kGkRtxvJ"
      },
      "source": [
        "import numpy as np\n",
        "import pandas as pd\n"
      ],
      "execution_count": null,
      "outputs": []
    },
    {
      "cell_type": "code",
      "metadata": {
        "id": "eWRde4Pat4R-"
      },
      "source": [
        "data = pd.read_csv('mc1-reports-data.csv')"
      ],
      "execution_count": null,
      "outputs": []
    },
    {
      "cell_type": "code",
      "metadata": {
        "id": "0BKw2aogt9lt"
      },
      "source": [
        "data.reset_index(inplace=True)"
      ],
      "execution_count": null,
      "outputs": []
    },
    {
      "cell_type": "code",
      "metadata": {
        "colab": {
          "base_uri": "https://localhost:8080/",
          "height": 423
        },
        "id": "bumy1fS4t_Sc",
        "outputId": "f8231d12-5bd3-4129-a974-758a07d27389"
      },
      "source": [
        "data.drop('index',inplace=True,axis=1)\n",
        "data"
      ],
      "execution_count": null,
      "outputs": [
        {
          "output_type": "execute_result",
          "data": {
            "text/html": [
              "<div>\n",
              "<style scoped>\n",
              "    .dataframe tbody tr th:only-of-type {\n",
              "        vertical-align: middle;\n",
              "    }\n",
              "\n",
              "    .dataframe tbody tr th {\n",
              "        vertical-align: top;\n",
              "    }\n",
              "\n",
              "    .dataframe thead th {\n",
              "        text-align: right;\n",
              "    }\n",
              "</style>\n",
              "<table border=\"1\" class=\"dataframe\">\n",
              "  <thead>\n",
              "    <tr style=\"text-align: right;\">\n",
              "      <th></th>\n",
              "      <th>time</th>\n",
              "      <th>sewer_and_water</th>\n",
              "      <th>power</th>\n",
              "      <th>roads_and_bridges</th>\n",
              "      <th>medical</th>\n",
              "      <th>buildings</th>\n",
              "      <th>shake_intensity</th>\n",
              "      <th>location</th>\n",
              "    </tr>\n",
              "  </thead>\n",
              "  <tbody>\n",
              "    <tr>\n",
              "      <th>0</th>\n",
              "      <td>4/6/2020 0:00</td>\n",
              "      <td>2.0</td>\n",
              "      <td>8</td>\n",
              "      <td>5</td>\n",
              "      <td>NaN</td>\n",
              "      <td>3.0</td>\n",
              "      <td>0.0</td>\n",
              "      <td>2</td>\n",
              "    </tr>\n",
              "    <tr>\n",
              "      <th>1</th>\n",
              "      <td>4/6/2020 0:00</td>\n",
              "      <td>6.0</td>\n",
              "      <td>3</td>\n",
              "      <td>10</td>\n",
              "      <td>10.0</td>\n",
              "      <td>9.0</td>\n",
              "      <td>NaN</td>\n",
              "      <td>3</td>\n",
              "    </tr>\n",
              "    <tr>\n",
              "      <th>2</th>\n",
              "      <td>4/6/2020 0:00</td>\n",
              "      <td>10.0</td>\n",
              "      <td>2</td>\n",
              "      <td>9</td>\n",
              "      <td>NaN</td>\n",
              "      <td>10.0</td>\n",
              "      <td>NaN</td>\n",
              "      <td>4</td>\n",
              "    </tr>\n",
              "    <tr>\n",
              "      <th>3</th>\n",
              "      <td>4/6/2020 0:00</td>\n",
              "      <td>8.0</td>\n",
              "      <td>1</td>\n",
              "      <td>10</td>\n",
              "      <td>NaN</td>\n",
              "      <td>3.0</td>\n",
              "      <td>1.0</td>\n",
              "      <td>4</td>\n",
              "    </tr>\n",
              "    <tr>\n",
              "      <th>4</th>\n",
              "      <td>4/6/2020 0:00</td>\n",
              "      <td>9.0</td>\n",
              "      <td>7</td>\n",
              "      <td>5</td>\n",
              "      <td>NaN</td>\n",
              "      <td>4.0</td>\n",
              "      <td>NaN</td>\n",
              "      <td>8</td>\n",
              "    </tr>\n",
              "    <tr>\n",
              "      <th>...</th>\n",
              "      <td>...</td>\n",
              "      <td>...</td>\n",
              "      <td>...</td>\n",
              "      <td>...</td>\n",
              "      <td>...</td>\n",
              "      <td>...</td>\n",
              "      <td>...</td>\n",
              "      <td>...</td>\n",
              "    </tr>\n",
              "    <tr>\n",
              "      <th>83065</th>\n",
              "      <td>4/11/2020 0:00</td>\n",
              "      <td>5.0</td>\n",
              "      <td>2</td>\n",
              "      <td>2</td>\n",
              "      <td>NaN</td>\n",
              "      <td>8.0</td>\n",
              "      <td>NaN</td>\n",
              "      <td>2</td>\n",
              "    </tr>\n",
              "    <tr>\n",
              "      <th>83066</th>\n",
              "      <td>4/11/2020 0:00</td>\n",
              "      <td>7.0</td>\n",
              "      <td>7</td>\n",
              "      <td>8</td>\n",
              "      <td>10.0</td>\n",
              "      <td>10.0</td>\n",
              "      <td>NaN</td>\n",
              "      <td>6</td>\n",
              "    </tr>\n",
              "    <tr>\n",
              "      <th>83067</th>\n",
              "      <td>4/11/2020 0:00</td>\n",
              "      <td>4.0</td>\n",
              "      <td>9</td>\n",
              "      <td>7</td>\n",
              "      <td>NaN</td>\n",
              "      <td>7.0</td>\n",
              "      <td>NaN</td>\n",
              "      <td>13</td>\n",
              "    </tr>\n",
              "    <tr>\n",
              "      <th>83068</th>\n",
              "      <td>4/11/2020 0:00</td>\n",
              "      <td>5.0</td>\n",
              "      <td>1</td>\n",
              "      <td>3</td>\n",
              "      <td>NaN</td>\n",
              "      <td>2.0</td>\n",
              "      <td>NaN</td>\n",
              "      <td>15</td>\n",
              "    </tr>\n",
              "    <tr>\n",
              "      <th>83069</th>\n",
              "      <td>4/11/2020 0:00</td>\n",
              "      <td>5.0</td>\n",
              "      <td>9</td>\n",
              "      <td>6</td>\n",
              "      <td>NaN</td>\n",
              "      <td>2.0</td>\n",
              "      <td>0.0</td>\n",
              "      <td>18</td>\n",
              "    </tr>\n",
              "  </tbody>\n",
              "</table>\n",
              "<p>83070 rows × 8 columns</p>\n",
              "</div>"
            ],
            "text/plain": [
              "                 time  sewer_and_water  ...  shake_intensity  location\n",
              "0       4/6/2020 0:00              2.0  ...              0.0         2\n",
              "1       4/6/2020 0:00              6.0  ...              NaN         3\n",
              "2       4/6/2020 0:00             10.0  ...              NaN         4\n",
              "3       4/6/2020 0:00              8.0  ...              1.0         4\n",
              "4       4/6/2020 0:00              9.0  ...              NaN         8\n",
              "...               ...              ...  ...              ...       ...\n",
              "83065  4/11/2020 0:00              5.0  ...              NaN         2\n",
              "83066  4/11/2020 0:00              7.0  ...              NaN         6\n",
              "83067  4/11/2020 0:00              4.0  ...              NaN        13\n",
              "83068  4/11/2020 0:00              5.0  ...              NaN        15\n",
              "83069  4/11/2020 0:00              5.0  ...              0.0        18\n",
              "\n",
              "[83070 rows x 8 columns]"
            ]
          },
          "metadata": {},
          "execution_count": 4
        }
      ]
    },
    {
      "cell_type": "code",
      "metadata": {
        "colab": {
          "base_uri": "https://localhost:8080/",
          "height": 50
        },
        "id": "2VjzqPvguBAN",
        "outputId": "6a5c4fdf-4705-41bd-d823-0e4d52c8900d"
      },
      "source": [
        "data = data[50885:75820]\n",
        "data"
      ],
      "execution_count": null,
      "outputs": [
        {
          "output_type": "execute_result",
          "data": {
            "text/html": [
              "<div>\n",
              "<style scoped>\n",
              "    .dataframe tbody tr th:only-of-type {\n",
              "        vertical-align: middle;\n",
              "    }\n",
              "\n",
              "    .dataframe tbody tr th {\n",
              "        vertical-align: top;\n",
              "    }\n",
              "\n",
              "    .dataframe thead th {\n",
              "        text-align: right;\n",
              "    }\n",
              "</style>\n",
              "<table border=\"1\" class=\"dataframe\">\n",
              "  <thead>\n",
              "    <tr style=\"text-align: right;\">\n",
              "      <th></th>\n",
              "      <th>time</th>\n",
              "      <th>sewer_and_water</th>\n",
              "      <th>power</th>\n",
              "      <th>roads_and_bridges</th>\n",
              "      <th>medical</th>\n",
              "      <th>buildings</th>\n",
              "      <th>shake_intensity</th>\n",
              "      <th>location</th>\n",
              "    </tr>\n",
              "  </thead>\n",
              "  <tbody>\n",
              "  </tbody>\n",
              "</table>\n",
              "</div>"
            ],
            "text/plain": [
              "Empty DataFrame\n",
              "Columns: [time, sewer_and_water, power, roads_and_bridges, medical, buildings, shake_intensity, location]\n",
              "Index: []"
            ]
          },
          "metadata": {},
          "execution_count": 26
        }
      ]
    },
    {
      "cell_type": "markdown",
      "metadata": {
        "id": "evw_j7SavwaV"
      },
      "source": [
        "Loc1 day4"
      ]
    },
    {
      "cell_type": "code",
      "metadata": {
        "colab": {
          "base_uri": "https://localhost:8080/"
        },
        "id": "J5J1EoUTvtLK",
        "outputId": "cc1b3fa5-458a-4080-c2e7-ae3f857c05ef"
      },
      "source": [
        "l1d4 = data[data['location']==1]\n",
        "l1d4.reset_index(inplace=True)\n",
        "l1d4.drop(['index','location'],axis=1,inplace=True)\n",
        "l1d4.to_csv('location1day4.csv')"
      ],
      "execution_count": null,
      "outputs": [
        {
          "output_type": "stream",
          "name": "stderr",
          "text": [
            "/usr/local/lib/python3.7/dist-packages/pandas/core/frame.py:4174: SettingWithCopyWarning: \n",
            "A value is trying to be set on a copy of a slice from a DataFrame\n",
            "\n",
            "See the caveats in the documentation: https://pandas.pydata.org/pandas-docs/stable/user_guide/indexing.html#returning-a-view-versus-a-copy\n",
            "  errors=errors,\n"
          ]
        }
      ]
    },
    {
      "cell_type": "markdown",
      "metadata": {
        "id": "9mRO1e19v2f9"
      },
      "source": [
        "Loc2 day4"
      ]
    },
    {
      "cell_type": "code",
      "metadata": {
        "colab": {
          "base_uri": "https://localhost:8080/"
        },
        "id": "4asy5Oecv1mU",
        "outputId": "8577ab79-7085-4772-9017-52322265c125"
      },
      "source": [
        "l2d4 = data[data['location']==2]\n",
        "l2d4.reset_index(inplace=True)\n",
        "l2d4.drop(['index','location'],axis=1,inplace=True)\n",
        "l2d4.to_csv('location2day4.csv')"
      ],
      "execution_count": null,
      "outputs": [
        {
          "output_type": "stream",
          "name": "stderr",
          "text": [
            "/usr/local/lib/python3.7/dist-packages/pandas/core/frame.py:4174: SettingWithCopyWarning: \n",
            "A value is trying to be set on a copy of a slice from a DataFrame\n",
            "\n",
            "See the caveats in the documentation: https://pandas.pydata.org/pandas-docs/stable/user_guide/indexing.html#returning-a-view-versus-a-copy\n",
            "  errors=errors,\n"
          ]
        }
      ]
    },
    {
      "cell_type": "markdown",
      "metadata": {
        "id": "irEcJfTAv_Dj"
      },
      "source": [
        "Loc3 day4"
      ]
    },
    {
      "cell_type": "code",
      "metadata": {
        "colab": {
          "base_uri": "https://localhost:8080/"
        },
        "id": "lCwhFQUhv-L3",
        "outputId": "5eb2c975-cd99-47e2-c4b3-cf039b476d59"
      },
      "source": [
        "l3d4 = data[data['location']==3]\n",
        "l3d4.reset_index(inplace=True)\n",
        "l3d4.drop(['index','location'],axis=1,inplace=True)\n",
        "l3d4.to_csv('location3day4.csv')"
      ],
      "execution_count": null,
      "outputs": [
        {
          "output_type": "stream",
          "name": "stderr",
          "text": [
            "/usr/local/lib/python3.7/dist-packages/pandas/core/frame.py:4174: SettingWithCopyWarning: \n",
            "A value is trying to be set on a copy of a slice from a DataFrame\n",
            "\n",
            "See the caveats in the documentation: https://pandas.pydata.org/pandas-docs/stable/user_guide/indexing.html#returning-a-view-versus-a-copy\n",
            "  errors=errors,\n"
          ]
        }
      ]
    },
    {
      "cell_type": "markdown",
      "metadata": {
        "id": "JQsXBGY_wF8q"
      },
      "source": [
        "Loc4 day4"
      ]
    },
    {
      "cell_type": "code",
      "metadata": {
        "colab": {
          "base_uri": "https://localhost:8080/"
        },
        "id": "63D4-RPewFFh",
        "outputId": "c1c5e662-dc43-40a2-9ca6-d94847c98f4a"
      },
      "source": [
        "l4d4 = data[data['location']==4]\n",
        "l4d4.reset_index(inplace=True)\n",
        "l4d4.drop(['index','location'],axis=1,inplace=True)\n",
        "l4d4.to_csv('location4day4.csv')"
      ],
      "execution_count": null,
      "outputs": [
        {
          "output_type": "stream",
          "name": "stderr",
          "text": [
            "/usr/local/lib/python3.7/dist-packages/pandas/core/frame.py:4174: SettingWithCopyWarning: \n",
            "A value is trying to be set on a copy of a slice from a DataFrame\n",
            "\n",
            "See the caveats in the documentation: https://pandas.pydata.org/pandas-docs/stable/user_guide/indexing.html#returning-a-view-versus-a-copy\n",
            "  errors=errors,\n"
          ]
        }
      ]
    },
    {
      "cell_type": "markdown",
      "metadata": {
        "id": "KaUBl4u0wMqS"
      },
      "source": [
        "Loc5 day4"
      ]
    },
    {
      "cell_type": "code",
      "metadata": {
        "colab": {
          "base_uri": "https://localhost:8080/"
        },
        "id": "nDTyjJG2wLk8",
        "outputId": "60fb8390-0e46-4dca-ea3e-2f73d332b9dd"
      },
      "source": [
        "l5d4 = data[data['location']==5]\n",
        "l5d4.reset_index(inplace=True)\n",
        "l5d4.drop(['index','location'],axis=1,inplace=True)\n",
        "l5d4.to_csv('location5day4.csv')"
      ],
      "execution_count": null,
      "outputs": [
        {
          "output_type": "stream",
          "name": "stderr",
          "text": [
            "/usr/local/lib/python3.7/dist-packages/pandas/core/frame.py:4174: SettingWithCopyWarning: \n",
            "A value is trying to be set on a copy of a slice from a DataFrame\n",
            "\n",
            "See the caveats in the documentation: https://pandas.pydata.org/pandas-docs/stable/user_guide/indexing.html#returning-a-view-versus-a-copy\n",
            "  errors=errors,\n"
          ]
        }
      ]
    },
    {
      "cell_type": "markdown",
      "metadata": {
        "id": "SLdNM0UswT0P"
      },
      "source": [
        "Loc6 day4"
      ]
    },
    {
      "cell_type": "code",
      "metadata": {
        "colab": {
          "base_uri": "https://localhost:8080/"
        },
        "id": "kIo3qKIOwS8B",
        "outputId": "71a95269-d2b3-40c7-cdcc-ab00a7a9fe75"
      },
      "source": [
        "l6d4 = data[data['location']==6]\n",
        "l6d4.reset_index(inplace=True)\n",
        "l6d4.drop(['index','location'],axis=1,inplace=True)\n",
        "l6d4.to_csv('location6day4.csv')"
      ],
      "execution_count": null,
      "outputs": [
        {
          "output_type": "stream",
          "name": "stderr",
          "text": [
            "/usr/local/lib/python3.7/dist-packages/pandas/core/frame.py:4174: SettingWithCopyWarning: \n",
            "A value is trying to be set on a copy of a slice from a DataFrame\n",
            "\n",
            "See the caveats in the documentation: https://pandas.pydata.org/pandas-docs/stable/user_guide/indexing.html#returning-a-view-versus-a-copy\n",
            "  errors=errors,\n"
          ]
        }
      ]
    },
    {
      "cell_type": "markdown",
      "metadata": {
        "id": "QeQ-uX-8wafk"
      },
      "source": [
        "Loc7 day4"
      ]
    },
    {
      "cell_type": "code",
      "metadata": {
        "colab": {
          "base_uri": "https://localhost:8080/"
        },
        "id": "LRibRe8FwZgL",
        "outputId": "dc4ec9ca-4322-4a6d-9593-501db5603c32"
      },
      "source": [
        "l7d4 = data[data['location']==7]\n",
        "l7d4.reset_index(inplace=True)\n",
        "l7d4.drop(['index','location'],axis=1,inplace=True)\n",
        "l7d4.to_csv('location7day4.csv')"
      ],
      "execution_count": null,
      "outputs": [
        {
          "output_type": "stream",
          "name": "stderr",
          "text": [
            "/usr/local/lib/python3.7/dist-packages/pandas/core/frame.py:4174: SettingWithCopyWarning: \n",
            "A value is trying to be set on a copy of a slice from a DataFrame\n",
            "\n",
            "See the caveats in the documentation: https://pandas.pydata.org/pandas-docs/stable/user_guide/indexing.html#returning-a-view-versus-a-copy\n",
            "  errors=errors,\n"
          ]
        }
      ]
    },
    {
      "cell_type": "markdown",
      "metadata": {
        "id": "fn6mReETwgsb"
      },
      "source": [
        "Loc8 day4"
      ]
    },
    {
      "cell_type": "code",
      "metadata": {
        "colab": {
          "base_uri": "https://localhost:8080/"
        },
        "id": "JfHR57fbwf2W",
        "outputId": "a4609040-498a-403b-80f7-133ae9f5c353"
      },
      "source": [
        "l8d4 = data[data['location']==8]\n",
        "l8d4.reset_index(inplace=True)\n",
        "l8d4.drop(['index','location'],axis=1,inplace=True)\n",
        "l8d4.to_csv('location8day4.csv')"
      ],
      "execution_count": null,
      "outputs": [
        {
          "output_type": "stream",
          "name": "stderr",
          "text": [
            "/usr/local/lib/python3.7/dist-packages/pandas/core/frame.py:4174: SettingWithCopyWarning: \n",
            "A value is trying to be set on a copy of a slice from a DataFrame\n",
            "\n",
            "See the caveats in the documentation: https://pandas.pydata.org/pandas-docs/stable/user_guide/indexing.html#returning-a-view-versus-a-copy\n",
            "  errors=errors,\n"
          ]
        }
      ]
    },
    {
      "cell_type": "markdown",
      "metadata": {
        "id": "BaSwtwwiwnDh"
      },
      "source": [
        "Loc9 day4"
      ]
    },
    {
      "cell_type": "code",
      "metadata": {
        "colab": {
          "base_uri": "https://localhost:8080/"
        },
        "id": "AW078NUrwmAV",
        "outputId": "7b41dfbb-590e-48ee-8224-e18ddb6b4b64"
      },
      "source": [
        "l9d4 = data[data['location']==9]\n",
        "l9d4.reset_index(inplace=True)\n",
        "l9d4.drop(['index','location'],axis=1,inplace=True)\n",
        "l9d4.to_csv('location9day4.csv')"
      ],
      "execution_count": null,
      "outputs": [
        {
          "output_type": "stream",
          "name": "stderr",
          "text": [
            "/usr/local/lib/python3.7/dist-packages/pandas/core/frame.py:4174: SettingWithCopyWarning: \n",
            "A value is trying to be set on a copy of a slice from a DataFrame\n",
            "\n",
            "See the caveats in the documentation: https://pandas.pydata.org/pandas-docs/stable/user_guide/indexing.html#returning-a-view-versus-a-copy\n",
            "  errors=errors,\n"
          ]
        }
      ]
    },
    {
      "cell_type": "markdown",
      "metadata": {
        "id": "oR2GHX7LwtMl"
      },
      "source": [
        "Loc10 day4"
      ]
    },
    {
      "cell_type": "code",
      "metadata": {
        "colab": {
          "base_uri": "https://localhost:8080/"
        },
        "id": "zJEUd8CjwsPu",
        "outputId": "935097c4-e5fd-44b5-8e82-e17847d68f2a"
      },
      "source": [
        "l10d4 = data[data['location']==10]\n",
        "l10d4.reset_index(inplace=True)\n",
        "l10d4.drop(['index','location'],axis=1,inplace=True)\n",
        "l10d4.to_csv('location10day4.csv')"
      ],
      "execution_count": null,
      "outputs": [
        {
          "output_type": "stream",
          "name": "stderr",
          "text": [
            "/usr/local/lib/python3.7/dist-packages/pandas/core/frame.py:4174: SettingWithCopyWarning: \n",
            "A value is trying to be set on a copy of a slice from a DataFrame\n",
            "\n",
            "See the caveats in the documentation: https://pandas.pydata.org/pandas-docs/stable/user_guide/indexing.html#returning-a-view-versus-a-copy\n",
            "  errors=errors,\n"
          ]
        }
      ]
    },
    {
      "cell_type": "markdown",
      "metadata": {
        "id": "tULn6kCvwzw5"
      },
      "source": [
        "Loc11 day4"
      ]
    },
    {
      "cell_type": "code",
      "metadata": {
        "colab": {
          "base_uri": "https://localhost:8080/"
        },
        "id": "AphTpLavwy2T",
        "outputId": "e3627469-f349-4f2b-e064-e5aba1f94ce8"
      },
      "source": [
        "l11d4 = data[data['location']==11]\n",
        "l11d4.reset_index(inplace=True)\n",
        "l11d4.drop(['index','location'],axis=1,inplace=True)\n",
        "l11d4.to_csv('location11day4.csv')"
      ],
      "execution_count": null,
      "outputs": [
        {
          "output_type": "stream",
          "name": "stderr",
          "text": [
            "/usr/local/lib/python3.7/dist-packages/pandas/core/frame.py:4174: SettingWithCopyWarning: \n",
            "A value is trying to be set on a copy of a slice from a DataFrame\n",
            "\n",
            "See the caveats in the documentation: https://pandas.pydata.org/pandas-docs/stable/user_guide/indexing.html#returning-a-view-versus-a-copy\n",
            "  errors=errors,\n"
          ]
        }
      ]
    },
    {
      "cell_type": "markdown",
      "metadata": {
        "id": "yTsjSoy4w6NL"
      },
      "source": [
        "Loc12 day4"
      ]
    },
    {
      "cell_type": "code",
      "metadata": {
        "colab": {
          "base_uri": "https://localhost:8080/"
        },
        "id": "oDnknajow5jN",
        "outputId": "d59755f5-1a91-403f-eb44-3a9659a41db8"
      },
      "source": [
        "l12d4 = data[data['location']==12]\n",
        "l12d4.reset_index(inplace=True)\n",
        "l12d4.drop(['index','location'],axis=1,inplace=True)\n",
        "l12d4.to_csv('location12day4.csv')"
      ],
      "execution_count": null,
      "outputs": [
        {
          "output_type": "stream",
          "name": "stderr",
          "text": [
            "/usr/local/lib/python3.7/dist-packages/pandas/core/frame.py:4174: SettingWithCopyWarning: \n",
            "A value is trying to be set on a copy of a slice from a DataFrame\n",
            "\n",
            "See the caveats in the documentation: https://pandas.pydata.org/pandas-docs/stable/user_guide/indexing.html#returning-a-view-versus-a-copy\n",
            "  errors=errors,\n"
          ]
        }
      ]
    },
    {
      "cell_type": "markdown",
      "metadata": {
        "id": "wJJbVn-Gw_sR"
      },
      "source": [
        "Loc13 day4"
      ]
    },
    {
      "cell_type": "code",
      "metadata": {
        "colab": {
          "base_uri": "https://localhost:8080/"
        },
        "id": "YW2SfiNYw-z1",
        "outputId": "6609c2de-a1c5-4d66-8572-29194bb3aa5a"
      },
      "source": [
        "l13d4 = data[data['location']==13]\n",
        "l13d4.reset_index(inplace=True)\n",
        "l13d4.drop(['index','location'],axis=1,inplace=True)\n",
        "l13d4.to_csv('location13day4.csv')"
      ],
      "execution_count": null,
      "outputs": [
        {
          "output_type": "stream",
          "name": "stderr",
          "text": [
            "/usr/local/lib/python3.7/dist-packages/pandas/core/frame.py:4174: SettingWithCopyWarning: \n",
            "A value is trying to be set on a copy of a slice from a DataFrame\n",
            "\n",
            "See the caveats in the documentation: https://pandas.pydata.org/pandas-docs/stable/user_guide/indexing.html#returning-a-view-versus-a-copy\n",
            "  errors=errors,\n"
          ]
        }
      ]
    },
    {
      "cell_type": "markdown",
      "metadata": {
        "id": "SCtssimpxF0V"
      },
      "source": [
        "Loc14 day4"
      ]
    },
    {
      "cell_type": "code",
      "metadata": {
        "colab": {
          "base_uri": "https://localhost:8080/"
        },
        "id": "koqES1WQxE5_",
        "outputId": "a486365e-ec4a-4657-addc-969a596a1dcd"
      },
      "source": [
        "l14d4 = data[data['location']==14]\n",
        "l14d4.reset_index(inplace=True)\n",
        "l14d4.drop(['index','location'],axis=1,inplace=True)\n",
        "l14d4.to_csv('location14day4.csv')"
      ],
      "execution_count": null,
      "outputs": [
        {
          "output_type": "stream",
          "name": "stderr",
          "text": [
            "/usr/local/lib/python3.7/dist-packages/pandas/core/frame.py:4174: SettingWithCopyWarning: \n",
            "A value is trying to be set on a copy of a slice from a DataFrame\n",
            "\n",
            "See the caveats in the documentation: https://pandas.pydata.org/pandas-docs/stable/user_guide/indexing.html#returning-a-view-versus-a-copy\n",
            "  errors=errors,\n"
          ]
        }
      ]
    },
    {
      "cell_type": "markdown",
      "metadata": {
        "id": "nkosD7rExMtE"
      },
      "source": [
        "Loc15 day4"
      ]
    },
    {
      "cell_type": "code",
      "metadata": {
        "colab": {
          "base_uri": "https://localhost:8080/"
        },
        "id": "Z7lC2dgMxLtn",
        "outputId": "5ee433c1-b57e-4db8-8b95-9c79864ca450"
      },
      "source": [
        "l15d4 = data[data['location']==15]\n",
        "l15d4.reset_index(inplace=True)\n",
        "l15d4.drop(['index','location'],axis=1,inplace=True)\n",
        "l15d4.to_csv('location15day4.csv')"
      ],
      "execution_count": null,
      "outputs": [
        {
          "output_type": "stream",
          "name": "stderr",
          "text": [
            "/usr/local/lib/python3.7/dist-packages/pandas/core/frame.py:4174: SettingWithCopyWarning: \n",
            "A value is trying to be set on a copy of a slice from a DataFrame\n",
            "\n",
            "See the caveats in the documentation: https://pandas.pydata.org/pandas-docs/stable/user_guide/indexing.html#returning-a-view-versus-a-copy\n",
            "  errors=errors,\n"
          ]
        }
      ]
    },
    {
      "cell_type": "markdown",
      "metadata": {
        "id": "CMplZjsPxSr5"
      },
      "source": [
        "Loc16 day4"
      ]
    },
    {
      "cell_type": "code",
      "metadata": {
        "colab": {
          "base_uri": "https://localhost:8080/"
        },
        "id": "BRKTCcfuxR2F",
        "outputId": "951172ce-8380-4bb2-fd89-0c6cebc801eb"
      },
      "source": [
        "l16d4 = data[data['location']==16]\n",
        "l16d4.reset_index(inplace=True)\n",
        "l16d4.drop(['index','location'],axis=1,inplace=True)\n",
        "l16d4.to_csv('location16day4.csv')"
      ],
      "execution_count": null,
      "outputs": [
        {
          "output_type": "stream",
          "name": "stderr",
          "text": [
            "/usr/local/lib/python3.7/dist-packages/pandas/core/frame.py:4174: SettingWithCopyWarning: \n",
            "A value is trying to be set on a copy of a slice from a DataFrame\n",
            "\n",
            "See the caveats in the documentation: https://pandas.pydata.org/pandas-docs/stable/user_guide/indexing.html#returning-a-view-versus-a-copy\n",
            "  errors=errors,\n"
          ]
        }
      ]
    },
    {
      "cell_type": "markdown",
      "metadata": {
        "id": "Iy_dZaRExZJ_"
      },
      "source": [
        "Loc17 day4"
      ]
    },
    {
      "cell_type": "code",
      "metadata": {
        "colab": {
          "base_uri": "https://localhost:8080/"
        },
        "id": "LJoWZeexxYLo",
        "outputId": "da6cad4f-cccd-4ff1-8d38-d4a33eeb6360"
      },
      "source": [
        "l17d4 = data[data['location']==17]\n",
        "l17d4.reset_index(inplace=True)\n",
        "l17d4.drop(['index','location'],axis=1,inplace=True)\n",
        "l17d4.to_csv('location17day4.csv')"
      ],
      "execution_count": null,
      "outputs": [
        {
          "output_type": "stream",
          "name": "stderr",
          "text": [
            "/usr/local/lib/python3.7/dist-packages/pandas/core/frame.py:4174: SettingWithCopyWarning: \n",
            "A value is trying to be set on a copy of a slice from a DataFrame\n",
            "\n",
            "See the caveats in the documentation: https://pandas.pydata.org/pandas-docs/stable/user_guide/indexing.html#returning-a-view-versus-a-copy\n",
            "  errors=errors,\n"
          ]
        }
      ]
    },
    {
      "cell_type": "markdown",
      "metadata": {
        "id": "jqSEDOO5xfHI"
      },
      "source": [
        "Loc18 day4"
      ]
    },
    {
      "cell_type": "code",
      "metadata": {
        "colab": {
          "base_uri": "https://localhost:8080/"
        },
        "id": "5VT6feC4xefh",
        "outputId": "ebd69f8b-a956-47ee-f14a-7ff8265ec3b3"
      },
      "source": [
        "l18d4 = data[data['location']==18]\n",
        "l18d4.reset_index(inplace=True)\n",
        "l18d4.drop(['index','location'],axis=1,inplace=True)\n",
        "l18d4.to_csv('location18day4.csv')"
      ],
      "execution_count": null,
      "outputs": [
        {
          "output_type": "stream",
          "name": "stderr",
          "text": [
            "/usr/local/lib/python3.7/dist-packages/pandas/core/frame.py:4174: SettingWithCopyWarning: \n",
            "A value is trying to be set on a copy of a slice from a DataFrame\n",
            "\n",
            "See the caveats in the documentation: https://pandas.pydata.org/pandas-docs/stable/user_guide/indexing.html#returning-a-view-versus-a-copy\n",
            "  errors=errors,\n"
          ]
        }
      ]
    },
    {
      "cell_type": "markdown",
      "metadata": {
        "id": "mntc7xNKxkok"
      },
      "source": [
        "Loc19 day4"
      ]
    },
    {
      "cell_type": "code",
      "metadata": {
        "colab": {
          "base_uri": "https://localhost:8080/"
        },
        "id": "lkAa8j63xjyh",
        "outputId": "cef13539-e75c-4d15-cd7e-7a9f8330d3c9"
      },
      "source": [
        "l19d4 = data[data['location']==19]\n",
        "l19d4.reset_index(inplace=True)\n",
        "l19d4.drop(['index','location'],axis=1,inplace=True)\n",
        "l19d4.to_csv('location19day4.csv')"
      ],
      "execution_count": null,
      "outputs": [
        {
          "output_type": "stream",
          "name": "stderr",
          "text": [
            "/usr/local/lib/python3.7/dist-packages/pandas/core/frame.py:4174: SettingWithCopyWarning: \n",
            "A value is trying to be set on a copy of a slice from a DataFrame\n",
            "\n",
            "See the caveats in the documentation: https://pandas.pydata.org/pandas-docs/stable/user_guide/indexing.html#returning-a-view-versus-a-copy\n",
            "  errors=errors,\n"
          ]
        }
      ]
    },
    {
      "cell_type": "code",
      "metadata": {
        "id": "P66n2fXlxo4w"
      },
      "source": [
        "l19d4 = data[data['location']==19]\n",
        "l19d4.reset_index(inplace=True)\n",
        "l19d4.drop(['index','location'],axis=1,inplace=True)\n",
        "l19d4.to_csv('location19day4.csv')"
      ],
      "execution_count": null,
      "outputs": []
    }
  ]
}